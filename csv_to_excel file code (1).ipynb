{
 "cells": [
  {
   "cell_type": "code",
   "execution_count": 1,
   "metadata": {},
   "outputs": [],
   "source": [
    "import pandas as pd\n",
    "import os"
   ]
  },
  {
   "cell_type": "code",
   "execution_count": 13,
   "metadata": {},
   "outputs": [],
   "source": [
    "def csv_to_excel(path, last_word):\n",
    "    \n",
    "    ##Devides the path root main address\n",
    "    new = []\n",
    "    for root, dirt, subdir in os.walk(path):\n",
    "        for sub in subdir:\n",
    "            if sub.endswith(last_word):\n",
    "                ##joining the root and sub directory\n",
    "                s = os.path.join(root, sub)\n",
    "                ##append the adress in new\n",
    "                new.append(s)\n",
    "\n",
    "                \n",
    "    ##list was converted into single single files            \n",
    "    for file in new: \n",
    "        news = file.split(\"\\\\\")[-1].split('.')[0]\n",
    "        ##read csv files\n",
    "        read_file = pd.read_csv(file)\n",
    "        ##csv file was converted into excel\n",
    "        read_file.to_excel(news + '.xlsx', index = None, header=True)\n",
    "        os.remove(file)"
   ]
  },
  {
   "cell_type": "code",
   "execution_count": 14,
   "metadata": {},
   "outputs": [],
   "source": [
    "csv_to_excel('C:\\\\Users\\\\Venkata Bharadwaj\\\\OneDrive\\\\Desktop\\\\Dummy Data','.csv')"
   ]
  },
  {
   "cell_type": "code",
   "execution_count": 15,
   "metadata": {},
   "outputs": [
    {
     "name": "stdout",
     "output_type": "stream",
     "text": [
      "C:\\Users\\Venkata Bharadwaj\\OneDrive\\Desktop\\Dummy Data\\.ipynb_checkpoints\n"
     ]
    }
   ],
   "source": [
    "##main address\n",
    "print(root)"
   ]
  },
  {
   "cell_type": "code",
   "execution_count": 17,
   "metadata": {},
   "outputs": [
    {
     "name": "stdout",
     "output_type": "stream",
     "text": [
      "['MOCK_DATA (1)-checkpoint.csv', 'MOCK_DATA (2)-checkpoint.csv', 'Untitled-checkpoint.ipynb']\n"
     ]
    }
   ],
   "source": [
    "##sub directory folders\n",
    "print(subdir)"
   ]
  },
  {
   "cell_type": "code",
   "execution_count": 18,
   "metadata": {},
   "outputs": [
    {
     "data": {
      "text/plain": [
       "[]"
      ]
     },
     "execution_count": 18,
     "metadata": {},
     "output_type": "execute_result"
    }
   ],
   "source": []
  },
  {
   "cell_type": "code",
   "execution_count": null,
   "metadata": {},
   "outputs": [],
   "source": []
  }
 ],
 "metadata": {
  "kernelspec": {
   "display_name": "Python 3",
   "language": "python",
   "name": "python3"
  },
  "language_info": {
   "codemirror_mode": {
    "name": "ipython",
    "version": 3
   },
   "file_extension": ".py",
   "mimetype": "text/x-python",
   "name": "python",
   "nbconvert_exporter": "python",
   "pygments_lexer": "ipython3",
   "version": "3.8.5"
  }
 },
 "nbformat": 4,
 "nbformat_minor": 4
}
