{
 "cells": [
  {
   "cell_type": "markdown",
   "metadata": {},
   "source": [
    "### Required packages"
   ]
  },
  {
   "cell_type": "code",
   "execution_count": 6,
   "metadata": {},
   "outputs": [],
   "source": [
    "from PIL import Image\n",
    "import os"
   ]
  },
  {
   "cell_type": "markdown",
   "metadata": {},
   "source": [
    "### Image width and height"
   ]
  },
  {
   "cell_type": "code",
   "execution_count": 48,
   "metadata": {},
   "outputs": [
    {
     "name": "stdout",
     "output_type": "stream",
     "text": [
      "1 image height is 1280 and width is 1920\n",
      "2 image height is 1317 and width is 1920\n",
      "3 image height is 1280 and width is 1920\n",
      "4 image height is 1440 and width is 1920\n",
      "5 image height is 960 and width is 1920\n",
      "6 image height is 1280 and width is 1920\n",
      "7 image height is 865 and width is 1920\n",
      "8 image height is 1280 and width is 1920\n",
      "9 image height is 1278 and width is 1920\n",
      "10 image height is 1281 and width is 1920\n",
      "11 image height is 1280 and width is 1920\n",
      "12 image height is 1280 and width is 1920\n",
      "13 image height is 1315 and width is 1920\n",
      "14 image height is 1282 and width is 1920\n",
      "15 image height is 367 and width is 660\n",
      "16 image height is 1280 and width is 1920\n",
      "17 image height is 1281 and width is 1920\n",
      "18 image height is 1280 and width is 1920\n",
      "19 image height is 1078 and width is 1920\n",
      "20 image height is 1280 and width is 1920\n",
      "21 image height is 1280 and width is 1920\n",
      "22 image height is 2048 and width is 2732\n",
      "23 image height is 1440 and width is 1920\n",
      "24 image height is 1280 and width is 1920\n",
      "25 image height is 1280 and width is 1920\n",
      "26 image height is 1275 and width is 1920\n",
      "27 image height is 1392 and width is 1920\n",
      "28 image height is 1226 and width is 1920\n"
     ]
    }
   ],
   "source": [
    "for root,dirs,subdir in os.walk('C:\\\\Users\\\\Venkata Bharadwaj\\\\ImageClassification'):\n",
    "    pass\n",
    "count = 0\n",
    "for i in subdir:\n",
    "    a = os.path.join(root,i)\n",
    "    im = Image.open(a)\n",
    "    width,height = im.size\n",
    "    count += 1\n",
    "    print(\"{} image height is {} and width is {}\".format(count,height,width))"
   ]
  },
  {
   "cell_type": "code",
   "execution_count": null,
   "metadata": {},
   "outputs": [],
   "source": [
    "###"
   ]
  },
  {
   "cell_type": "code",
   "execution_count": 49,
   "metadata": {},
   "outputs": [
    {
     "name": "stdout",
     "output_type": "stream",
     "text": [
      "1 was found\n"
     ]
    }
   ],
   "source": [
    "for root,dirs,subdir in os.walk('C:\\\\Users\\\\Venkata Bharadwaj\\\\ImageClassification'):\n",
    "    pass\n",
    "count = 0\n",
    "for i in subdir:\n",
    "    a = os.path.join(root,i)\n",
    "    im = Image.open(a)\n",
    "    width,height = im.size\n",
    "    #count += 1\n",
    "    #print(\"{} image height is {} and width is {}\".format(count,height,width))\n",
    "    \n",
    "    im = Image.open(\"airport-1822133_1920.jpg\")\n",
    "    new_width,new_height = im.size\n",
    "\n",
    "    if (new_height==height)&(new_width==width):\n",
    "            count +=1\n",
    "            print(\"{} was found\".format(count))"
   ]
  },
  {
   "cell_type": "code",
   "execution_count": null,
   "metadata": {},
   "outputs": [],
   "source": []
  }
 ],
 "metadata": {
  "kernelspec": {
   "display_name": "Python 3",
   "language": "python",
   "name": "python3"
  },
  "language_info": {
   "codemirror_mode": {
    "name": "ipython",
    "version": 3
   },
   "file_extension": ".py",
   "mimetype": "text/x-python",
   "name": "python",
   "nbconvert_exporter": "python",
   "pygments_lexer": "ipython3",
   "version": "3.8.5"
  }
 },
 "nbformat": 4,
 "nbformat_minor": 4
}
