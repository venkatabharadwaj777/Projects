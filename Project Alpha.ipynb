{
 "cells": [
  {
   "cell_type": "code",
   "execution_count": 1,
   "id": "6c96d036",
   "metadata": {},
   "outputs": [
    {
     "name": "stdout",
     "output_type": "stream",
     "text": [
      "Collecting pyttsx3\n",
      "  Downloading pyttsx3-2.90-py3-none-any.whl (39 kB)\n",
      "Collecting pypiwin32\n",
      "  Downloading pypiwin32-223-py3-none-any.whl (1.7 kB)\n",
      "Requirement already satisfied: comtypes in c:\\users\\bharadwaj.m\\anaconda3\\lib\\site-packages (from pyttsx3) (1.1.10)\n",
      "Requirement already satisfied: pywin32 in c:\\users\\bharadwaj.m\\anaconda3\\lib\\site-packages (from pyttsx3) (302)\n",
      "Installing collected packages: pypiwin32, pyttsx3\n",
      "Successfully installed pypiwin32-223 pyttsx3-2.90\n"
     ]
    }
   ],
   "source": [
    "!pip install pyttsx3"
   ]
  },
  {
   "cell_type": "code",
   "execution_count": 27,
   "id": "04856287",
   "metadata": {},
   "outputs": [
    {
     "name": "stdout",
     "output_type": "stream",
     "text": [
      "Requirement already satisfied: SpeechRecognition in c:\\users\\bharadwaj.m\\anaconda3\\lib\\site-packages (3.10.0)\n",
      "Requirement already satisfied: requests>=2.26.0 in c:\\users\\bharadwaj.m\\anaconda3\\lib\\site-packages (from SpeechRecognition) (2.28.1)\n",
      "Requirement already satisfied: urllib3<1.27,>=1.21.1 in c:\\users\\bharadwaj.m\\anaconda3\\lib\\site-packages (from requests>=2.26.0->SpeechRecognition) (1.26.11)\n",
      "Requirement already satisfied: certifi>=2017.4.17 in c:\\users\\bharadwaj.m\\anaconda3\\lib\\site-packages (from requests>=2.26.0->SpeechRecognition) (2022.9.14)\n",
      "Requirement already satisfied: idna<4,>=2.5 in c:\\users\\bharadwaj.m\\anaconda3\\lib\\site-packages (from requests>=2.26.0->SpeechRecognition) (3.3)\n",
      "Requirement already satisfied: charset-normalizer<3,>=2 in c:\\users\\bharadwaj.m\\anaconda3\\lib\\site-packages (from requests>=2.26.0->SpeechRecognition) (2.0.4)\n"
     ]
    }
   ],
   "source": [
    "!pip install SpeechRecognition"
   ]
  },
  {
   "cell_type": "code",
   "execution_count": 30,
   "id": "f672dd36",
   "metadata": {},
   "outputs": [
    {
     "name": "stdout",
     "output_type": "stream",
     "text": [
      "Collecting pipwin\n",
      "  Downloading pipwin-0.5.2.tar.gz (7.9 kB)\n",
      "  Preparing metadata (setup.py): started\n",
      "  Preparing metadata (setup.py): finished with status 'done'\n",
      "Collecting docopt\n",
      "  Using cached docopt-0.6.2-py2.py3-none-any.whl\n",
      "Requirement already satisfied: requests in c:\\users\\bharadwaj.m\\anaconda3\\lib\\site-packages (from pipwin) (2.28.1)\n",
      "Collecting pyprind\n",
      "  Downloading PyPrind-2.11.3-py2.py3-none-any.whl (8.4 kB)\n",
      "Requirement already satisfied: six in c:\\users\\bharadwaj.m\\anaconda3\\lib\\site-packages (from pipwin) (1.16.0)\n",
      "Requirement already satisfied: beautifulsoup4>=4.9.0 in c:\\users\\bharadwaj.m\\anaconda3\\lib\\site-packages (from pipwin) (4.11.1)\n",
      "Collecting js2py\n",
      "  Downloading Js2Py-0.74-py3-none-any.whl (1.0 MB)\n",
      "     ---------------------------------------- 1.0/1.0 MB 4.4 MB/s eta 0:00:00\n",
      "Requirement already satisfied: packaging in c:\\users\\bharadwaj.m\\anaconda3\\lib\\site-packages (from pipwin) (21.3)\n",
      "Collecting pySmartDL>=1.3.1\n",
      "  Downloading pySmartDL-1.3.4-py3-none-any.whl (20 kB)\n",
      "Requirement already satisfied: soupsieve>1.2 in c:\\users\\bharadwaj.m\\anaconda3\\lib\\site-packages (from beautifulsoup4>=4.9.0->pipwin) (2.3.1)\n",
      "Collecting pyjsparser>=2.5.1\n",
      "  Downloading pyjsparser-2.7.1.tar.gz (24 kB)\n",
      "  Preparing metadata (setup.py): started\n",
      "  Preparing metadata (setup.py): finished with status 'done'\n",
      "Collecting tzlocal>=1.2\n",
      "  Downloading tzlocal-4.3-py3-none-any.whl (20 kB)\n",
      "Requirement already satisfied: pyparsing!=3.0.5,>=2.0.2 in c:\\users\\bharadwaj.m\\anaconda3\\lib\\site-packages (from packaging->pipwin) (3.0.9)\n",
      "Requirement already satisfied: urllib3<1.27,>=1.21.1 in c:\\users\\bharadwaj.m\\anaconda3\\lib\\site-packages (from requests->pipwin) (1.26.11)\n",
      "Requirement already satisfied: idna<4,>=2.5 in c:\\users\\bharadwaj.m\\anaconda3\\lib\\site-packages (from requests->pipwin) (3.3)\n",
      "Requirement already satisfied: charset-normalizer<3,>=2 in c:\\users\\bharadwaj.m\\anaconda3\\lib\\site-packages (from requests->pipwin) (2.0.4)\n",
      "Requirement already satisfied: certifi>=2017.4.17 in c:\\users\\bharadwaj.m\\anaconda3\\lib\\site-packages (from requests->pipwin) (2022.9.14)\n",
      "Collecting tzdata\n",
      "  Using cached tzdata-2023.3-py2.py3-none-any.whl (341 kB)\n",
      "Collecting pytz-deprecation-shim\n",
      "  Using cached pytz_deprecation_shim-0.1.0.post0-py2.py3-none-any.whl (15 kB)\n",
      "Building wheels for collected packages: pipwin, pyjsparser\n",
      "  Building wheel for pipwin (setup.py): started\n",
      "  Building wheel for pipwin (setup.py): finished with status 'done'\n",
      "  Created wheel for pipwin: filename=pipwin-0.5.2-py2.py3-none-any.whl size=8774 sha256=fc54f0d7dcdc19642a95276268a616b0b92f1c3ed408a9c4f0162ec429a4b0c7\n",
      "  Stored in directory: c:\\users\\bharadwaj.m\\appdata\\local\\pip\\cache\\wheels\\bc\\86\\30\\f70db104d3f51560d9a177d6ced4f7e09f3e474d6985c101ae\n",
      "  Building wheel for pyjsparser (setup.py): started\n",
      "  Building wheel for pyjsparser (setup.py): finished with status 'done'\n",
      "  Created wheel for pyjsparser: filename=pyjsparser-2.7.1-py3-none-any.whl size=25983 sha256=31008db55c6d0ef68737d236382714b93e7a140d9388e6e82ae6f3554dad6aa4\n",
      "  Stored in directory: c:\\users\\bharadwaj.m\\appdata\\local\\pip\\cache\\wheels\\f0\\70\\61\\f42dc45dcf0fbe8c495ce579b04730787081499bfb5b8bc60e\n",
      "Successfully built pipwin pyjsparser\n",
      "Installing collected packages: pySmartDL, pyprind, pyjsparser, docopt, tzdata, pytz-deprecation-shim, tzlocal, js2py, pipwin\n",
      "Successfully installed docopt-0.6.2 js2py-0.74 pipwin-0.5.2 pySmartDL-1.3.4 pyjsparser-2.7.1 pyprind-2.11.3 pytz-deprecation-shim-0.1.0.post0 tzdata-2023.3 tzlocal-4.3\n"
     ]
    }
   ],
   "source": [
    "!pip install pipwin"
   ]
  },
  {
   "cell_type": "code",
   "execution_count": 31,
   "id": "0f793f9b",
   "metadata": {},
   "outputs": [
    {
     "name": "stdout",
     "output_type": "stream",
     "text": [
      "Building cache. Hang on . . .\n",
      "Done\n",
      "Package `pyaudio` found in cache\n",
      "Downloading package . . .\n",
      "https://download.lfd.uci.edu/pythonlibs/archived/PyAudio-0.2.11-cp39-cp39-win_amd64.whl\n",
      "PyAudio-0.2.11-cp39-cp39-win_amd64.whl\n",
      "[*] 0 bytes / 111 kB @ 0 bytes/s [------------------] [0.0%, 0s left]   \b\b\b\b\b\b\b\b\b\b\b\b\b\b\b\b\b\b\b\b\b\b\b\b\b\b\b\b\b\b\b\b\b\b\b\b\b\b\b\b\b\b\b\b\b\b\b\b\b\b\b\b\b\b\b\b\b\b\b\b\b\b\b\b\b\b\b\b\b\b\b\b\b [*] 0 bytes / 111 kB @ 0 bytes/s [------------------] [0.0%, 0s left]   \b\b\b\b\b\b\b\b\b\b\b\b\b\b\b\b\b\b\b\b\b\b\b\b\b\b\b\b\b\b\b\b\b\b\b\b\b\b\b\b\b\b\b\b\b\b\b\b\b\b\b\b\b\b\b\b\b\b\b\b\b\b\b\b\b\b\b\b\b\b\b\b\b [*] 0 bytes / 111 kB @ 0 bytes/s [------------------] [0.0%, 0s left]   \b\b\b\b\b\b\b\b\b\b\b\b\b\b\b\b\b\b\b\b\b\b\b\b\b\b\b\b\b\b\b\b\b\b\b\b\b\b\b\b\b\b\b\b\b\b\b\b\b\b\b\b\b\b\b\b\b\b\b\b\b\b\b\b\b\b\b\b\b\b\b\b\b [*] 0 bytes / 111 kB @ 0 bytes/s [------------------] [0.0%, 0s left]   \b\b\b\b\b\b\b\b\b\b\b\b\b\b\b\b\b\b\b\b\b\b\b\b\b\b\b\b\b\b\b\b\b\b\b\b\b\b\b\b\b\b\b\b\b\b\b\b\b\b\b\b\b\b\b\b\b\b\b\b\b\b\b\b\b\b\b\b\b\b\b\b\b [*] 0 bytes / 111 kB @ 0 bytes/s [------------------] [0.0%, 0s left]   \b\b\b\b\b\b\b\b\b\b\b\b\b\b\b\b\b\b\b\b\b\b\b\b\b\b\b\b\b\b\b\b\b\b\b\b\b\b\b\b\b\b\b\b\b\b\b\b\b\b\b\b\b\b\b\b\b\b\b\b\b\b\b\b\b\b\b\b\b\b\b\b\b [*] 0 bytes / 111 kB @ 0 bytes/s [------------------] [0.0%, 0s left]   \b\b\b\b\b\b\b\b\b\b\b\b\b\b\b\b\b\b\b\b\b\b\b\b\b\b\b\b\b\b\b\b\b\b\b\b\b\b\b\b\b\b\b\b\b\b\b\b\b\b\b\b\b\b\b\b\b\b\b\b\b\b\b\b\b\b\b\b\b\b\b\b\b [*] 0 bytes / 111 kB @ 0 bytes/s [------------------] [0.0%, 0s left]   \b\b\b\b\b\b\b\b\b\b\b\b\b\b\b\b\b\b\b\b\b\b\b\b\b\b\b\b\b\b\b\b\b\b\b\b\b\b\b\b\b\b\b\b\b\b\b\b\b\b\b\b\b\b\b\b\b\b\b\b\b\b\b\b\b\b\b\b\b\b\b\b\b [*] 0 bytes / 111 kB @ 0 bytes/s [------------------] [0.0%, 0s left]   \b\b\b\b\b\b\b\b\b\b\b\b\b\b\b\b\b\b\b\b\b\b\b\b\b\b\b\b\b\b\b\b\b\b\b\b\b\b\b\b\b\b\b\b\b\b\b\b\b\b\b\b\b\b\b\b\b\b\b\b\b\b\b\b\b\b\b\b\b\b\b\b\b [*] 0 bytes / 111 kB @ 0 bytes/s [------------------] [0.0%, 0s left]   \b\b\b\b\b\b\b\b\b\b\b\b\b\b\b\b\b\b\b\b\b\b\b\b\b\b\b\b\b\b\b\b\b\b\b\b\b\b\b\b\b\b\b\b\b\b\b\b\b\b\b\b\b\b\b\b\b\b\b\b\b\b\b\b\b\b\b\b\b\b\b\b\b [*] 0 bytes / 111 kB @ 0 bytes/s [------------------] [0.0%, 0s left]   \b\b\b\b\b\b\b\b\b\b\b\b\b\b\b\b\b\b\b\b\b\b\b\b\b\b\b\b\b\b\b\b\b\b\b\b\b\b\b\b\b\b\b\b\b\b\b\b\b\b\b\b\b\b\b\b\b\b\b\b\b\b\b\b\b\b\b\b\b\b\b\b\b [*] 0 bytes / 111 kB @ 0 bytes/s [------------------] [0.0%, 0s left]   \b\b\b\b\b\b\b\b\b\b\b\b\b\b\b\b\b\b\b\b\b\b\b\b\b\b\b\b\b\b\b\b\b\b\b\b\b\b\b\b\b\b\b\b\b\b\b\b\b\b\b\b\b\b\b\b\b\b\b\b\b\b\b\b\b\b\b\b\b\b\b\b\b [*] 0 bytes / 111 kB @ 0 bytes/s [------------------] [0.0%, 0s left]   \b\b\b\b\b\b\b\b\b\b\b\b\b\b\b\b\b\b\b\b\b\b\b\b\b\b\b\b\b\b\b\b\b\b\b\b\b\b\b\b\b\b\b\b\b\b\b\b\b\b\b\b\b\b\b\b\b\b\b\b\b\b\b\b\b\b\b\b\b\b\b\b\b [*] 8 kB / 111 kB @ 6 kB/s [#-----------------] [7.2%, 0s left]   \b\b\b\b\b\b\b\b\b\b\b\b\b\b\b\b\b\b\b\b\b\b\b\b\b\b\b\b\b\b\b\b\b\b\b\b\b\b\b\b\b\b\b\b\b\b\b\b\b\b\b\b\b\b\b\b\b\b\b\b\b\b\b\b\b\b\b [*] 8 kB / 111 kB @ 6 kB/s [#-----------------] [7.2%, 0s left]   \b\b\b\b\b\b\b\b\b\b\b\b\b\b\b\b\b\b\b\b\b\b\b\b\b\b\b\b\b\b\b\b\b\b\b\b\b\b\b\b\b\b\b\b\b\b\b\b\b\b\b\b\b\b\b\b\b\b\b\b\b\b\b\b\b\b\b [*] 40 kB / 111 kB @ 27 kB/s [######------------] [36.0%, 0s left]   \b\b\b\b\b\b\b\b\b\b\b\b\b\b\b\b\b\b\b\b\b\b\b\b\b\b\b\b\b\b\b\b\b\b\b\b\b\b\b\b\b\b\b\b\b\b\b\b\b\b\b\b\b\b\b\b\b\b\b\b\b\b\b\b\b\b\b\b\b\b [*] 40 kB / 111 kB @ 25 kB/s [######------------] [36.0%, 0s left]   \b\b\b\b\b\b\b\b\b\b\b\b\b\b\b\b\b\b\b\b\b\b\b\b\b\b\b\b\b\b\b\b\b\b\b\b\b\b\b\b\b\b\b\b\b\b\b\b\b\b\b\b\b\b\b\b\b\b\b\b\b\b\b\b\b\b\b\b\b\b [*] 40 kB / 111 kB @ 24 kB/s [######------------] [36.0%, 0s left]   \b\b\b\b\b\b\b\b\b\b\b\b\b\b\b\b\b\b\b\b\b\b\b\b\b\b\b\b\b\b\b\b\b\b\b\b\b\b\b\b\b\b\b\b\b\b\b\b\b\b\b\b\b\b\b\b\b\b\b\b\b\b\b\b\b\b\b\b\b\b [*] 72 kB / 111 kB @ 40 kB/s [###########-------] [64.8%, 0s left]   \b\b\b\b\b\b\b\b\b\b\b\b\b\b\b\b\b\b\b\b\b\b\b\b\b\b\b\b\b\b\b\b\b\b\b\b\b\b\b\b\b\b\b\b\b\b\b\b\b\b\b\b\b\b\b\b\b\b\b\b\b\b\b\b\b\b\b\b\b\b [*] 72 kB / 111 kB @ 38 kB/s [###########-------] [64.8%, 0s left]   \b\b\b\b\b\b\b\b\b\b\b\b\b\b\b\b\b\b\b\b\b\b\b\b\b\b\b\b\b\b\b\b\b\b\b\b\b\b\b\b\b\b\b\b\b\b\b\b\b\b\b\b\b\b\b\b\b\b\b\b\b\b\b\b\b\b\b\b\b\b Processing c:\\users\\bharadwaj.m\\pipwin\\pyaudio-0.2.11-cp39-cp39-win_amd64.whl\n",
      "Installing collected packages: PyAudio\n",
      "Successfully installed PyAudio-0.2.11\n",
      "[*] 111 kB / 111 kB @ 38 kB/s [##################] [100%, 0s left]    \n"
     ]
    }
   ],
   "source": [
    "!pipwin install pyaudio"
   ]
  },
  {
   "cell_type": "code",
   "execution_count": 32,
   "id": "24bac39c",
   "metadata": {},
   "outputs": [
    {
     "name": "stdout",
     "output_type": "stream",
     "text": [
      "Collecting pyjokes\n",
      "  Downloading pyjokes-0.6.0-py2.py3-none-any.whl (26 kB)\n",
      "Installing collected packages: pyjokes\n",
      "Successfully installed pyjokes-0.6.0\n"
     ]
    }
   ],
   "source": [
    "!pip install pyjokes"
   ]
  },
  {
   "cell_type": "code",
   "execution_count": 70,
   "id": "985d99ac",
   "metadata": {},
   "outputs": [
    {
     "name": "stdout",
     "output_type": "stream",
     "text": [
      "Requirement already satisfied: wikipedia in c:\\users\\bharadwaj.m\\anaconda3\\lib\\site-packages (1.4.0)\n",
      "Requirement already satisfied: requests<3.0.0,>=2.0.0 in c:\\users\\bharadwaj.m\\anaconda3\\lib\\site-packages (from wikipedia) (2.28.1)\n",
      "Requirement already satisfied: beautifulsoup4 in c:\\users\\bharadwaj.m\\anaconda3\\lib\\site-packages (from wikipedia) (4.11.1)\n",
      "Requirement already satisfied: certifi>=2017.4.17 in c:\\users\\bharadwaj.m\\anaconda3\\lib\\site-packages (from requests<3.0.0,>=2.0.0->wikipedia) (2022.9.14)\n",
      "Requirement already satisfied: charset-normalizer<3,>=2 in c:\\users\\bharadwaj.m\\anaconda3\\lib\\site-packages (from requests<3.0.0,>=2.0.0->wikipedia) (2.0.4)\n",
      "Requirement already satisfied: idna<4,>=2.5 in c:\\users\\bharadwaj.m\\anaconda3\\lib\\site-packages (from requests<3.0.0,>=2.0.0->wikipedia) (3.3)\n",
      "Requirement already satisfied: urllib3<1.27,>=1.21.1 in c:\\users\\bharadwaj.m\\anaconda3\\lib\\site-packages (from requests<3.0.0,>=2.0.0->wikipedia) (1.26.11)\n",
      "Requirement already satisfied: soupsieve>1.2 in c:\\users\\bharadwaj.m\\anaconda3\\lib\\site-packages (from beautifulsoup4->wikipedia) (2.3.1)\n"
     ]
    }
   ],
   "source": [
    "!pip install wikipedia"
   ]
  },
  {
   "cell_type": "code",
   "execution_count": 101,
   "id": "9b7cb9a2",
   "metadata": {},
   "outputs": [
    {
     "name": "stdout",
     "output_type": "stream",
     "text": [
      "190\n",
      "1.0\n"
     ]
    }
   ],
   "source": [
    "\n",
    "engine = pyttsx3.init()\n",
    "engine.say(\"I will speak this text\")\n",
    "engine.runAndWait()\n",
    "\n",
    "\n",
    "## Changing Voice , Rate and Volume :\n",
    "\n",
    "import pyttsx3\n",
    "engine = pyttsx3.init() # object creation\n",
    "\n",
    "\"\"\" RATE\"\"\"\n",
    "rate = engine.getProperty('rate')   # getting details of current speaking rate\n",
    "print (rate)                        #printing current voice rate\n",
    "engine.setProperty('rate', 190)     # setting up new voice rate\n",
    "\n",
    "\n",
    "\"\"\"VOLUME\"\"\"\n",
    "volume = engine.getProperty('volume')   #getting to know current volume level (min=0 and max=1)\n",
    "print (volume)                          #printing current volume level\n",
    "engine.setProperty('volume',1.0)    # setting up volume level  between 0 and 1\n",
    "\n",
    "\"\"\"VOICE\"\"\"\n",
    "voices = engine.getProperty('voices')       #getting details of current voice\n",
    "#engine.setProperty('voice', voices[0].id)  #changing index, changes voices. o for male\n",
    "engine.setProperty('voice', voices[1].id)   #changing index, changes voices. 1 for female\n",
    "\n",
    "engine.say(\"Hello World!\")\n",
    "engine.say('My current speaking rate is ' + str(rate))\n",
    "engine.runAndWait()\n",
    "engine.stop()\n",
    "\n",
    "# \"\"\"Saving Voice to a file\"\"\"\n",
    "# # On linux make sure that 'espeak' and 'ffmpeg' are installed\n",
    "# engine.save_to_file('Hello World', 'test.mp3')\n",
    "# engine.runAndWait()"
   ]
  },
  {
   "cell_type": "code",
   "execution_count": 100,
   "id": "39418f1a",
   "metadata": {},
   "outputs": [],
   "source": [
    "import pyttsx3\n",
    "engine = pyttsx3.init() # object creation\n",
    "\n",
    "\"\"\"VOICE\"\"\"\n",
    "voices = engine.getProperty('voices')       #getting details of current voice\n",
    "engine.setProperty('voice', voices[0].id)  #changing index, changes voices. o for male\n",
    "#engine.setProperty('voice', voices[1].id)   #changing index, changes voices. 1 for female"
   ]
  },
  {
   "cell_type": "code",
   "execution_count": null,
   "id": "891119c9",
   "metadata": {},
   "outputs": [],
   "source": [
    "import speech_recognition as sr\n",
    "import pyttsx3\n",
    "import wikipedia\n",
    "from datetime import datetime\n",
    "\n",
    "engine = pyttsx3.init()\n",
    "engine.say(\"Hai Bharadwaj\")\n",
    "engine.say(\"Welcome to the FPT Software\")\n",
    "engine.say('Iam rado your personal Assistance')\n",
    "engine.say('How can i help you')\n",
    "engine.say('Iam ready to listen')\n",
    "engine.runAndWait()\n",
    "\n",
    "def talk(text):\n",
    "    engine.say(str(text))\n",
    "    engine.runAndWait()\n",
    "     \n",
    "\n",
    "    \n",
    "with sr.Microphone () as source:\n",
    "    stop = True\n",
    "    while stop:\n",
    "        r = sr.Recognizer()\n",
    "        r.adjust_for_ambient_noise(source)\n",
    "\n",
    "\n",
    "        talk(\"Iam Listening\")\n",
    "\n",
    "        audio = r.listen(source)\n",
    "        command = r.recognize_google(audio)\n",
    "        if command in 'stop':\n",
    "            stop=False\n",
    "            \n",
    "        else:\n",
    "            command = command.lower()\n",
    "            info = wikipedia.summary(command,sentences=3)\n",
    "            print(info)\n",
    "            talk(info)\n",
    "\n",
    "# except Exception as e:\n",
    "#     print('Error : ' + str(e))"
   ]
  },
  {
   "cell_type": "code",
   "execution_count": 7,
   "id": "07aecdfc",
   "metadata": {},
   "outputs": [],
   "source": [
    "engine.say(\"Hello Bharadwaj\")\n",
    "engine.say('Iam rado your personal Assistance')\n",
    "engine.say('How can i help you')\n",
    "engine.runAndWait()\n",
    "engine.stop()"
   ]
  },
  {
   "cell_type": "code",
   "execution_count": 72,
   "id": "c23b04d2",
   "metadata": {},
   "outputs": [],
   "source": [
    "import speech_recognition as sr\n",
    "import pyttsx3\n",
    "import wikipedia\n",
    "import time"
   ]
  },
  {
   "cell_type": "code",
   "execution_count": 2,
   "id": "6b590593",
   "metadata": {},
   "outputs": [
    {
     "name": "stdout",
     "output_type": "stream",
     "text": [
      "Enter your name: murali\n",
      "Listening...\n",
      "alpha what is the time right now\n",
      "Listening...\n",
      "alpha what is the date\n",
      "Listening...\n",
      "who is the albert einstein\n"
     ]
    },
    {
     "ename": "TypeError",
     "evalue": "argument of type 'NoneType' is not iterable",
     "output_type": "error",
     "traceback": [
      "\u001b[1;31m---------------------------------------------------------------------------\u001b[0m",
      "\u001b[1;31mTypeError\u001b[0m                                 Traceback (most recent call last)",
      "\u001b[1;32m~\\AppData\\Local\\Temp\\ipykernel_18228\\24258414.py\u001b[0m in \u001b[0;36m<module>\u001b[1;34m\u001b[0m\n\u001b[0;32m     94\u001b[0m \u001b[1;33m\u001b[0m\u001b[0m\n\u001b[0;32m     95\u001b[0m \u001b[1;33m\u001b[0m\u001b[0m\n\u001b[1;32m---> 96\u001b[1;33m \u001b[0mAlpha_isActive\u001b[0m\u001b[1;33m(\u001b[0m\u001b[1;33m)\u001b[0m\u001b[1;33m\u001b[0m\u001b[1;33m\u001b[0m\u001b[0m\n\u001b[0m\u001b[0;32m     97\u001b[0m \u001b[1;31m# except Exception as e:\u001b[0m\u001b[1;33m\u001b[0m\u001b[1;33m\u001b[0m\u001b[0m\n\u001b[0;32m     98\u001b[0m \u001b[1;31m#     print('Error : ' + str(e))\u001b[0m\u001b[1;33m\u001b[0m\u001b[1;33m\u001b[0m\u001b[0m\n",
      "\u001b[1;32m~\\AppData\\Local\\Temp\\ipykernel_18228\\24258414.py\u001b[0m in \u001b[0;36mAlpha_isActive\u001b[1;34m()\u001b[0m\n\u001b[0;32m     60\u001b[0m \u001b[1;33m\u001b[0m\u001b[0m\n\u001b[0;32m     61\u001b[0m \u001b[1;33m\u001b[0m\u001b[0m\n\u001b[1;32m---> 62\u001b[1;33m         \u001b[1;32mif\u001b[0m \u001b[1;34m'time'\u001b[0m \u001b[1;32min\u001b[0m \u001b[0mcommand\u001b[0m\u001b[1;33m:\u001b[0m\u001b[1;33m\u001b[0m\u001b[1;33m\u001b[0m\u001b[0m\n\u001b[0m\u001b[0;32m     63\u001b[0m             \u001b[0mtalk\u001b[0m\u001b[1;33m(\u001b[0m\u001b[0mdatetime\u001b[0m\u001b[1;33m.\u001b[0m\u001b[0mnow\u001b[0m\u001b[1;33m(\u001b[0m\u001b[1;33m)\u001b[0m\u001b[1;33m.\u001b[0m\u001b[0mstrftime\u001b[0m\u001b[1;33m(\u001b[0m\u001b[1;34m\"%I:%M %p\"\u001b[0m\u001b[1;33m)\u001b[0m\u001b[1;33m)\u001b[0m\u001b[1;33m\u001b[0m\u001b[1;33m\u001b[0m\u001b[0m\n\u001b[0;32m     64\u001b[0m \u001b[1;33m\u001b[0m\u001b[0m\n",
      "\u001b[1;31mTypeError\u001b[0m: argument of type 'NoneType' is not iterable"
     ]
    }
   ],
   "source": [
    "import speech_recognition as sr\n",
    "import pyttsx3\n",
    "import wikipedia\n",
    "import time\n",
    "import pyjokes\n",
    "from datetime import datetime\n",
    "\n",
    "name= str(input('Enter your name: '))\n",
    "\n",
    "engine = pyttsx3.init()\n",
    "engine.say(f\"Welcome {name}\")\n",
    "#engine.say(\"Welcome to the FPT Software\")\n",
    "engine.say('Iam Alpha your personal Assistance')\n",
    "engine.say('How can i help you')\n",
    "engine.say('Iam ready to listen')\n",
    "engine.runAndWait()\n",
    "\n",
    "\n",
    "def talk(text):\n",
    "    engine.say(str(text))\n",
    "    engine.runAndWait()\n",
    "     \n",
    "\n",
    "        \n",
    "def user_command():\n",
    "    \n",
    "    try:\n",
    "         \n",
    "        with sr.Microphone () as source:\n",
    "\n",
    "            r = sr.Recognizer()\n",
    "            r.adjust_for_ambient_noise(source)\n",
    "\n",
    "            print(\"Listening...\")\n",
    "\n",
    "            audio = r.listen(source)\n",
    "            command = r.recognize_google(audio).lower()\n",
    "            print(command)\n",
    "            if 'alpha' in command:\n",
    "                command = command.replace('alpha','')\n",
    "                return command\n",
    "                \n",
    "            else:\n",
    "                talk('please say the command again')\n",
    "    except:\n",
    "        talk(f'{name} Please say the command again')\n",
    "        \n",
    "    \n",
    "\n",
    "        \n",
    "    \n",
    "def Alpha_isActive():\n",
    "    \n",
    "    stop=True\n",
    "    \n",
    "    while stop:\n",
    "        \n",
    "    \n",
    "        command = user_command()\n",
    "\n",
    "\n",
    "        if 'time' in command:\n",
    "            talk(datetime.now().strftime(\"%I:%M %p\"))\n",
    "\n",
    "        elif 'date' in command:\n",
    "            talk(datetime.now().strftime(\"%d/%m/%Y\"))\n",
    "\n",
    "        elif 'who is' in command:\n",
    "            info = wikipedia.summary(command,1)\n",
    "            print(info)\n",
    "            talk(info)\n",
    "\n",
    "        elif command in 'search' or 'Wikipedia':\n",
    "            talk(f'sure {name} i will give small description about your topic')\n",
    "            info = wikipedia.summary(command,1)\n",
    "            print(info)\n",
    "            talk(info)\n",
    "        elif 'you single' in command:\n",
    "            talk('Iam relation with Internet')\n",
    "\n",
    "        elif 'joke' or 'jokes' in command:\n",
    "            talk(pyjokes.get_joke())\n",
    "\n",
    "        elif '' in command:\n",
    "            talk(f'{name} please say command again')\n",
    "            \n",
    "        elif 'stop' in command:\n",
    "            talk(f'Nice to talk with you {name} Bye')\n",
    "            stop = False\n",
    "            \n",
    "        else:\n",
    "            talk(f'{name} please say command again')\n",
    "    return stop\n",
    "\n",
    "  \n",
    "Alpha_isActive()\n",
    "# except Exception as e:\n",
    "#     print('Error : ' + str(e))"
   ]
  },
  {
   "cell_type": "code",
   "execution_count": 10,
   "id": "01981c76",
   "metadata": {},
   "outputs": [
    {
     "data": {
      "text/plain": [
       "'01/05/2023 02:39 PM'"
      ]
     },
     "execution_count": 10,
     "metadata": {},
     "output_type": "execute_result"
    }
   ],
   "source": [
    "from datetime import datetime\n",
    "datetime.now().strftime(\"%d/%m/%Y %I:%M\" ' %p')"
   ]
  },
  {
   "cell_type": "code",
   "execution_count": 35,
   "id": "2654ad8f",
   "metadata": {},
   "outputs": [
    {
     "name": "stdout",
     "output_type": "stream",
     "text": [
      "ASCII stupid question, get a stupid ANSI.\n"
     ]
    }
   ],
   "source": [
    "import pyjokes\n",
    "print(pyjokes.get_joke())"
   ]
  },
  {
   "cell_type": "code",
   "execution_count": null,
   "id": "02515c90",
   "metadata": {},
   "outputs": [],
   "source": []
  },
  {
   "cell_type": "code",
   "execution_count": null,
   "id": "f7493556",
   "metadata": {},
   "outputs": [],
   "source": []
  }
 ],
 "metadata": {
  "kernelspec": {
   "display_name": "Python 3 (ipykernel)",
   "language": "python",
   "name": "python3"
  },
  "language_info": {
   "codemirror_mode": {
    "name": "ipython",
    "version": 3
   },
   "file_extension": ".py",
   "mimetype": "text/x-python",
   "name": "python",
   "nbconvert_exporter": "python",
   "pygments_lexer": "ipython3",
   "version": "3.9.13"
  }
 },
 "nbformat": 4,
 "nbformat_minor": 5
}
