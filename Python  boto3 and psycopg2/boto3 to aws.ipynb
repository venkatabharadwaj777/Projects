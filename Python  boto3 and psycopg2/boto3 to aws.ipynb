{
 "cells": [
  {
   "cell_type": "code",
   "execution_count": 1,
   "id": "eb4cc61e",
   "metadata": {},
   "outputs": [],
   "source": [
    "import boto3\n",
    "import psycopg2\n",
    "from sensitive import hidedata"
   ]
  },
  {
   "cell_type": "markdown",
   "id": "a93a437e",
   "metadata": {},
   "source": [
    "### getting sensitive data"
   ]
  },
  {
   "cell_type": "code",
   "execution_count": 3,
   "id": "7cb8cfe6",
   "metadata": {},
   "outputs": [],
   "source": [
    "REGION = hidedata.get('region')\n",
    "ACCESS_KEY = hidedata.get('accesskey')\n",
    "SECREAT_KEY =hidedata.get('secreatkey')\n",
    "BUCKET = hidedata.get('bucket')\n",
    "DATABASE_USER = hidedata.get('user')\n",
    "DATABASE_PASSWORD = hidedata.get('password')\n",
    "DATABASE_PORT = hidedata.get('port')\n",
    "DATABASE_HOST = hidedata.get('host')"
   ]
  },
  {
   "cell_type": "code",
   "execution_count": 3,
   "id": "11cfcf69",
   "metadata": {},
   "outputs": [
    {
     "data": {
      "text/plain": [
       "s3.ServiceResource()"
      ]
     },
     "execution_count": 3,
     "metadata": {},
     "output_type": "execute_result"
    }
   ],
   "source": [
    "# connecting aws to boto3 package using access key and secreat key\n",
    "\n",
    "s3 = boto3.resource(\n",
    "    service_name='s3',\n",
    "    region_name=REGION,\n",
    "    aws_access_key_id=ACCESS_KEY,\n",
    "    aws_secret_access_key=SECREAT_KEY,\n",
    ")\n",
    "s3"
   ]
  },
  {
   "cell_type": "code",
   "execution_count": 4,
   "id": "4f0149be",
   "metadata": {},
   "outputs": [
    {
     "name": "stdout",
     "output_type": "stream",
     "text": [
      "c360bucket\n",
      "codepipeline-us-east-1-678179654666\n"
     ]
    }
   ],
   "source": [
    "# print bucket names\n",
    "\n",
    "for bucket in s3.buckets.all():\n",
    "    print(bucket.name)"
   ]
  },
  {
   "cell_type": "markdown",
   "id": "f89775cf",
   "metadata": {},
   "source": [
    "### Store the bucket files"
   ]
  },
  {
   "cell_type": "code",
   "execution_count": 5,
   "id": "f0d487b2",
   "metadata": {},
   "outputs": [
    {
     "name": "stdout",
     "output_type": "stream",
     "text": [
      "['sain_lat_long.csv', 'samsung_location.csv']\n"
     ]
    }
   ],
   "source": [
    "def files():\n",
    "    \n",
    "    # Empty list\n",
    "    file_names=[]\n",
    "    \n",
    "    #selecting bucket\n",
    "    my_bucket=s3.Bucket(name=BUCKET)\n",
    "\n",
    "    for file in my_bucket.objects.all():\n",
    "        # store the files inside the empty list\n",
    "        file_names.append(file.key)\n",
    "        \n",
    "    print(file_names)\n",
    "    \n",
    "files()"
   ]
  },
  {
   "cell_type": "markdown",
   "id": "2829d9f2",
   "metadata": {},
   "source": [
    "### Downloading files inside local machine"
   ]
  },
  {
   "cell_type": "code",
   "execution_count": 98,
   "id": "374be3b2",
   "metadata": {},
   "outputs": [],
   "source": [
    "# The files store inside of the jupyter notebook file(execute \"pwd\" it shows files path)\n",
    "\n",
    "# Method 1 for downloading files\n",
    "\n",
    "def files_download(bucket,access_key,secret_key):\n",
    "    \n",
    "    # Create Session\n",
    "    # Session is an object to create a connection to AWS Service and manage the state of the connection\n",
    "    session = boto3.Session(\n",
    "        aws_access_key_id=access_key,\n",
    "        aws_secret_access_key=secret_key, \n",
    "    )\n",
    "\n",
    "    # Initiate S3 Resource\n",
    "    s3 = session.resource('s3')\n",
    "\n",
    "    # Select Your S3 Bucket\n",
    "    your_bucket = s3.Bucket(bucket)\n",
    "\n",
    "    # Iterate All Objects in Your S3 Bucket Over the for Loop\n",
    "    for s3_object in your_bucket.objects.all():\n",
    "\n",
    "        # Use this statement if your files are available directly in your bucket. \n",
    "        your_bucket.download_file(s3_object.key, str(s3_object.key))\n",
    "        \n",
    "files_download(BUCKET,ACCESS_KEY,SECREAT_KEY)"
   ]
  },
  {
   "cell_type": "code",
   "execution_count": 46,
   "id": "91235dce",
   "metadata": {},
   "outputs": [],
   "source": [
    "# Method 2 for downloading files\n",
    "\n",
    "def download_s3files(bucketname,access_key,security_key):\n",
    "    \n",
    "    # It provides methods to connect with AWS services similar to the AWS API service.\n",
    "    s3 = boto3.resource('s3',\n",
    "          aws_access_key_id = access_key,\n",
    "          aws_secret_access_key =security_key)\n",
    "    \n",
    "    # select the bucket\n",
    "    bucket = s3.Bucket(bucketname)\n",
    "    \n",
    "    # Iterate All Objects in Your S3 Bucket Over the for Loop\n",
    "    for obj in bucket.objects.all():\n",
    "        filename = obj.key.rsplit('/')[-1]\n",
    "        bucket.download_file(obj.key, \"\" + filename)\n",
    "        \n",
    "        \n",
    "download_s3files(BUCKET,ACCESS_KEY,SECREAT_KEY)"
   ]
  },
  {
   "cell_type": "markdown",
   "id": "931778e8",
   "metadata": {},
   "source": [
    "### Postgresql"
   ]
  },
  {
   "cell_type": "code",
   "execution_count": 122,
   "id": "bbb40909",
   "metadata": {},
   "outputs": [],
   "source": [
    "# Createing tables inside posgresql database\n",
    "\n",
    "def creating_tables():\n",
    "    \n",
    "    commands = (\n",
    "        '''\n",
    "        CREATE TABLE samsung_location (\n",
    "            event_type VARCHAR(255),\n",
    "            imei VARCHAR(255),\n",
    "            arrival_timestamp VARCHAR(255),\n",
    "            gpslatitute VARCHAR(255),\n",
    "            gpaslongitude VARCHAR(255),\n",
    "            make VARCHAR(255),\n",
    "            model VARCHAR(255),\n",
    "            name VARCHAR(255),\n",
    "            version VARCHAR(255),\n",
    "            flag VARCHAR(255),\n",
    "            city VARCHAR(255),\n",
    "            state VARCHAR(255)\n",
    "        )\n",
    "        ''',\n",
    "        ''' CREATE TABLE sain_lat_long (\n",
    "                city VARCHAR(255),\n",
    "                state VARCHAR(255),\n",
    "                place VARCHAR(255),\n",
    "                countrycode VARCHAR(255),\n",
    "                lat VARCHAR(255),\n",
    "                long VARCHAR(255),\n",
    "                subarea VARCHAR(255)\n",
    "                )\n",
    "        ''', )\n",
    "    conn = None\n",
    "    \n",
    "    try:\n",
    "        # connect to the PostgreSQL server\n",
    "        conn = psycopg2.connect(database=DATABASE_USER, user=DATABASE_USER, password=DATABASE_PASSWORD,host=DATABASE_HOST)\n",
    "        cur = conn.cursor()\n",
    "        \n",
    "        # create table one by one\n",
    "        for command in commands:\n",
    "            cur.execute(command)\n",
    "            \n",
    "            \n",
    "        # commit the changes\n",
    "        conn.commit()\n",
    "            \n",
    "        # close communication with the PostgreSQL database server\n",
    "        cur.close() \n",
    "        \n",
    "    except (Exception, psycopg2.DatabaseError) as error:\n",
    "        print(error)\n",
    "        \n",
    "    finally:\n",
    "        if conn is not None:\n",
    "            conn.close()\n",
    "\n",
    "creating_tables()"
   ]
  },
  {
   "cell_type": "markdown",
   "id": "6ee68098",
   "metadata": {},
   "source": [
    "### Dumping data from postgresql"
   ]
  },
  {
   "cell_type": "code",
   "execution_count": 129,
   "id": "755bc447",
   "metadata": {},
   "outputs": [],
   "source": [
    "def dumping(csv_file_name1,csv_file_name2):\n",
    "    \n",
    "    # Connecting postgresql\n",
    "    conn = psycopg2.connect(database=DATABASE_USER, user=DATABASE_USER, password=DATABASE_PASSWORD,host=DATABASE_HOST)\n",
    "    \n",
    "    # Cursor is used to decreases the time for processing set of data\n",
    "    cur = conn.cursor()\n",
    "    \n",
    "    # Queries to create tables\n",
    "    sql1 = \"COPY samsung_location FROM STDIN DELIMITER ',' CSV HEADER\"\n",
    "    sql2 = \"COPY sain_lat_long FROM STDIN DELIMITER ',' CSV HEADER\"\n",
    "    \n",
    "    # Copying Two csv files data\n",
    "    cur.copy_expert(sql1, open(csv_file_name1, \"r\"))\n",
    "    cur.copy_expert(sql2, open(csv_file_name2, \"r\"))\n",
    "    \n",
    "    #Commit Changes\n",
    "    conn.commit()\n",
    "    \n",
    "    #Close connection\n",
    "    conn.close()\n",
    "    \n",
    "\n",
    "    \n",
    "dumping(r'c:\\Users\\Venkata Bharadwaj\\Documents\\Python  task\\samsung_location.csv',\n",
    "        r'c:\\Users\\Venkata Bharadwaj\\Documents\\Python  task\\sain_lat_long.csv')"
   ]
  },
  {
   "cell_type": "markdown",
   "id": "6877a560",
   "metadata": {},
   "source": [
    "### Inserting rows in postgresql table"
   ]
  },
  {
   "cell_type": "code",
   "execution_count": 4,
   "id": "c36410fd",
   "metadata": {},
   "outputs": [],
   "source": [
    "# Inserting rows inside posgresql database table\n",
    "\n",
    "def Inserting_rows():\n",
    "    \n",
    "    commands = (\n",
    "        '''\n",
    "        INSERT INTO samsung_location(event_type,imei,arrival_timestamp,gpslatitute,gpaslongitude,make,model,name,version,flag) values('AB_LOCATION_EVENT',\n",
    "        's-A0RNt7QCrFminqngkw',\n",
    "        '2021-09-23 1:43:04 PM',\n",
    "        '17.38405',\n",
    "        '78.45636',\n",
    "        'samsung',\n",
    "        'SM-A825G',\n",
    "        'ANDRIOD',\n",
    "        '7.2',\n",
    "        'new'\n",
    "        )\n",
    "        \n",
    "        ''',\n",
    "        '''\n",
    "        Insert INTO sain_lat_long values('Hyderabad',\n",
    "        'Telengana',\n",
    "        'Adilabad',\n",
    "        'IN',\n",
    "        '17.38405', \n",
    "        '78.45636',\n",
    "        'Adilabad'\n",
    "                )\n",
    "        ''', )\n",
    "    conn = None\n",
    "    \n",
    "    try:\n",
    "        # connect to the PostgreSQL server\n",
    "        conn = psycopg2.connect(database=DATABASE_USER, user=DATABASE_USER, password=DATABASE_PASSWORD,host=DATABASE_HOST)\n",
    "        cur = conn.cursor()\n",
    "        \n",
    "        # create table one by one\n",
    "        for command in commands:\n",
    "            cur.execute(command)\n",
    "            \n",
    "            \n",
    "        # commit the changes\n",
    "        conn.commit()\n",
    "            \n",
    "        # close communication with the PostgreSQL database server\n",
    "        cur.close() \n",
    "        \n",
    "    except (Exception, psycopg2.DatabaseError) as error:\n",
    "        print(error)\n",
    "        \n",
    "    finally:\n",
    "        if conn is not None:\n",
    "            conn.close()\n",
    "\n",
    "Inserting_rows()"
   ]
  },
  {
   "cell_type": "markdown",
   "id": "64340c35",
   "metadata": {},
   "source": [
    "### Update the particular row"
   ]
  },
  {
   "cell_type": "code",
   "execution_count": 29,
   "id": "4628e180",
   "metadata": {},
   "outputs": [],
   "source": [
    "# Updating row by using psycopg2\n",
    "\n",
    "def updating_row():\n",
    "    \n",
    "    command = '''\n",
    "    \n",
    "    UPDATE samsung_location\n",
    "    \n",
    "    SET city = sain_lat_long.city,\n",
    "    state = sain_lat_long.state\n",
    "\n",
    "    FROM sain_lat_long\n",
    "\n",
    "    WHERE samsung_location.gpslatitute = sain_lat_long.lat AND samsung_location.gpaslongitude = sain_lat_long.long\n",
    "    \n",
    "    '''\n",
    "       \n",
    "    conn = None\n",
    "    \n",
    "    try:\n",
    "        # connect to the PostgreSQL server\n",
    "        conn = psycopg2.connect(database=DATABASE_USER, user=DATABASE_USER, password=DATABASE_PASSWORD,host=DATABASE_HOST)\n",
    "        cur = conn.cursor()\n",
    "        \n",
    "        cur.execute(command)\n",
    "            \n",
    "        # commit the changes\n",
    "        conn.commit()\n",
    "            \n",
    "        # close communication with the PostgreSQL database server\n",
    "        cur.close() \n",
    "        \n",
    "    except (Exception, psycopg2.DatabaseError) as error:\n",
    "        print(error)\n",
    "        \n",
    "    finally:\n",
    "        if conn is not None:\n",
    "            conn.close()\n",
    "            \n",
    "            \n",
    "updating_row()"
   ]
  }
 ],
 "metadata": {
  "kernelspec": {
   "display_name": "Python 3 (ipykernel)",
   "language": "python",
   "name": "python3"
  },
  "language_info": {
   "codemirror_mode": {
    "name": "ipython",
    "version": 3
   },
   "file_extension": ".py",
   "mimetype": "text/x-python",
   "name": "python",
   "nbconvert_exporter": "python",
   "pygments_lexer": "ipython3",
   "version": "3.9.7"
  }
 },
 "nbformat": 4,
 "nbformat_minor": 5
}
