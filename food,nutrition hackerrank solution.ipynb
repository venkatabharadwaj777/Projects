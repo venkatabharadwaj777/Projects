{
 "cells": [
  {
   "cell_type": "markdown",
   "id": "b119c666",
   "metadata": {},
   "source": [
    "### Hacker rank answer food, nutrition problem in oops"
   ]
  },
  {
   "cell_type": "code",
   "execution_count": null,
   "id": "6a2482f0",
   "metadata": {},
   "outputs": [],
   "source": [
    "class Food:\n",
    "    def __init__(self,name,pro,fat,carb):\n",
    "        self.name=name\n",
    "        self.pro=pro\n",
    "        self.fat=fat\n",
    "        self.carb=carb\n",
    "        self.ene=pro+fat+carb\n",
    "class Nutrition:\n",
    "    def __init__(self,s,lol,upl):\n",
    "        self.s=s\n",
    "        self.lol=lol\n",
    "        self.upl=upl\n",
    "class execute:\n",
    "    def __init__(self,elist,llist):\n",
    "        self.elist=elist\n",
    "        self.llist=llist\n",
    "    def setEnergy(self):\n",
    "        for i in self.elist:\n",
    "            for r in self.llist:\n",
    "                if(i.ene<r.upl and i.ene>r.lol):\n",
    "                    print(i.name,\"-\",i.ene,\"-\",r.s)\n",
    "    def matchcriteria(self,val):\n",
    "        f1={}\n",
    "        for i in self.elist:\n",
    "            if(i.ene<=val):\n",
    "                f1[i.name]=i.ene\n",
    "        if(f1):\n",
    "            print(\"Food within given criteria is:\")\n",
    "            for k in f1:\n",
    "                print(k,\":\",f1[k])\n",
    "            else:\n",
    "                print(\"No Food Found\")\n",
    "                \n",
    "if __name__==\"__main__\":\n",
    "    no=int(input())\n",
    "    val=[]\n",
    "    for i in range(no):\n",
    "        n=input()\n",
    "        p=float(input())\n",
    "        f=float(input())\n",
    "        c=float(input())\n",
    "        val.append(Food(n,p,f,c))\n",
    "    non=int(input())\n",
    "    e1=[]\n",
    "    for i in range(non):\n",
    "        s=input()\n",
    "        ll=int(input())\n",
    "        ul=int(input())\n",
    "        e1.append(Nutrition(s,ll,ul))\n",
    "    enval=int(input())\n",
    "    obj=execute(val,e1)\n",
    "    obj.setEnergy()\n",
    "    obj.matchcriteria(enval)"
   ]
  },
  {
   "cell_type": "code",
   "execution_count": null,
   "id": "e6ef86e2",
   "metadata": {},
   "outputs": [],
   "source": []
  }
 ],
 "metadata": {
  "kernelspec": {
   "display_name": "Python 3 (ipykernel)",
   "language": "python",
   "name": "python3"
  },
  "language_info": {
   "codemirror_mode": {
    "name": "ipython",
    "version": 3
   },
   "file_extension": ".py",
   "mimetype": "text/x-python",
   "name": "python",
   "nbconvert_exporter": "python",
   "pygments_lexer": "ipython3",
   "version": "3.9.7"
  }
 },
 "nbformat": 4,
 "nbformat_minor": 5
}
