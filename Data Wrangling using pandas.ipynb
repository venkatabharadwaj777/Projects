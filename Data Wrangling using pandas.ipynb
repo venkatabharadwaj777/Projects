{
 "cells": [
  {
   "cell_type": "code",
   "execution_count": null,
   "metadata": {},
   "outputs": [],
   "source": [
    "import os\n",
    "import pandas as pd"
   ]
  },
  {
   "cell_type": "code",
   "execution_count": null,
   "metadata": {},
   "outputs": [],
   "source": [
    "pwd"
   ]
  },
  {
   "cell_type": "code",
   "execution_count": null,
   "metadata": {},
   "outputs": [],
   "source": [
    "def data_wrang(root_dir, file_substr):\n",
    "    new_data = []\n",
    "    for root, dirs, subdir in os.walk(root_dir):\n",
    "        for sub in subdir:\n",
    "            if sub.endswith(file_substr):\n",
    "                np = os.path.join(root, sub)\n",
    "                new_data.append(np)\n",
    "\n",
    "    df = pd.DataFrame()\n",
    "    for file in new_data:\n",
    "        date_imp = list(map(lambda x: x.replace(\".xlsx\",\"\"),file.split(\"\\\\\")[-1].split(\"_\")[3:]))\n",
    "        date_str = \"-\".join(date_imp)\n",
    "        all_data = pd.read_excel(file)\n",
    "        all_data[\"ANSI\"] = file.split(\"\\\\\")[-1].split(\"_\")[0]\n",
    "        all_data[\"product_name\"] = file.split(\" \")[-1].split(\"_\")[1]\n",
    "        all_data[\"Date\"] = date_str\n",
    "        all_data[\"Date\"] = pd.to_datetime(df[\"Date\"])\n",
    "        df = df.append(all_data, ignore_index=True)\n",
    "    df.to_csv(root_dir + \"\\\\\" + \"master.csv\",index = False)"
   ]
  },
  {
   "cell_type": "code",
   "execution_count": null,
   "metadata": {},
   "outputs": [],
   "source": [
    "data_wrang('C:\\\\Users\\\\Venkata Bharadwaj\\\\OneDrive\\\\Desktop\\\\UI Data', 'MAINMETRICS_2021_8_8.xlsx')"
   ]
  },
  {
   "cell_type": "code",
   "execution_count": null,
   "metadata": {},
   "outputs": [],
   "source": [
    "man = list(map(lambda x: x.replace(\".xlsx\",\"\"),file.split(\"\\\\\")[-1].split(\" \")[-1].split(\"_\")[2:]))"
   ]
  },
  {
   "cell_type": "code",
   "execution_count": null,
   "metadata": {},
   "outputs": [],
   "source": [
    "\"-\".join(man)"
   ]
  },
  {
   "cell_type": "markdown",
   "metadata": {},
   "source": [
    "## Task 2"
   ]
  },
  {
   "cell_type": "code",
   "execution_count": null,
   "metadata": {},
   "outputs": [],
   "source": [
    "sales = []\n",
    "for root, direct, subdir in os.walk('C:\\\\Users\\\\Venkata Bharadwaj\\\\OneDrive\\\\Desktop\\\\UI Data'):\n",
    "    for sub in subdir:\n",
    "        if sub.endswith('SALESATTRIBUTION_2021_8_8.xlsx'):\n",
    "            k = os.path.join(root, sub)\n",
    "            sales.append(k)\n",
    "df = pd.DataFrame()\n",
    "for sal in sales:\n",
    "    date_n = list(map(lambda x: x.replace('.xlsx',''),sal.split(\"\\\\\")[-1].split('_')[3:]))\n",
    "    date_str = '-'.join(date_n)\n",
    "    all_data = pd.read_excel(sal).transpose()\n",
    "    new = all_data.rename(columns=all_data.iloc[0]).drop(index='Reviews',axis=0).drop_duplicates()\n",
    "    new['ANSI'] = sal.split('\\\\')[-1].split('_')[0]\n",
    "    new['Product_name'] = sal.split(\"\\\\\")[-1].split('_')[1]\n",
    "    new['Date'] = date_str\n",
    "    new['Date'] = pd.to_datetime(new['Date'])\n",
    "    df = df.append(new,ignore_index=False)"
   ]
  },
  {
   "cell_type": "code",
   "execution_count": null,
   "metadata": {},
   "outputs": [],
   "source": []
  }
 ],
 "metadata": {
  "kernelspec": {
   "display_name": "Python 3",
   "language": "python",
   "name": "python3"
  },
  "language_info": {
   "codemirror_mode": {
    "name": "ipython",
    "version": 3
   },
   "file_extension": ".py",
   "mimetype": "text/x-python",
   "name": "python",
   "nbconvert_exporter": "python",
   "pygments_lexer": "ipython3",
   "version": "3.8.5"
  }
 },
 "nbformat": 4,
 "nbformat_minor": 4
}
