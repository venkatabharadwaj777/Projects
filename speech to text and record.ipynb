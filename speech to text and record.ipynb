{
 "cells": [
  {
   "cell_type": "code",
   "execution_count": 4,
   "id": "b03b346b-bc4f-4c27-9954-9fadd617f7dc",
   "metadata": {},
   "outputs": [],
   "source": [
    "import speech_recognition as sr"
   ]
  },
  {
   "cell_type": "code",
   "execution_count": 3,
   "id": "067df84f-9b20-4d7d-b774-4f81a09ded6d",
   "metadata": {},
   "outputs": [
    {
     "name": "stdout",
     "output_type": "stream",
     "text": [
      "Please say something....\n",
      "Recognizing now ...\n",
      "You have said : \n",
      "hello world\n",
      "Audio recorded Successfully \n",
      "\n"
     ]
    }
   ],
   "source": [
    "def main():\n",
    "    r = sr.Recognizer()\n",
    "    \n",
    "    with sr.Microphone () as source:\n",
    "        r.adjust_for_ambient_noise(source)\n",
    "        \n",
    "        print(\"Please say something....\")\n",
    "        \n",
    "        audio = r.listen(source)\n",
    "        \n",
    "        print('Recognizing now ...')\n",
    "        \n",
    "        \n",
    "        try:\n",
    "            print(\"You have said : \\n\" + r.recognize_google(audio))\n",
    "            print('Audio recorded Successfully \\n')\n",
    "            \n",
    "        except Exception as e:\n",
    "            print('Error : ' + str(e))\n",
    "            \n",
    "            \n",
    "            \n",
    "        with open('recordedAudio.wav', 'wb') as f:\n",
    "            f.write(audio.get_wav_data())\n",
    "            \n",
    "\n",
    "if __name__ == \"__main__\":\n",
    "    main()"
   ]
  },
  {
   "cell_type": "code",
   "execution_count": null,
   "id": "f2bb5adf-4c0d-4908-a02b-f71434728eae",
   "metadata": {},
   "outputs": [],
   "source": []
  }
 ],
 "metadata": {
  "kernelspec": {
   "display_name": "Python 3",
   "language": "python",
   "name": "python3"
  },
  "language_info": {
   "codemirror_mode": {
    "name": "ipython",
    "version": 3
   },
   "file_extension": ".py",
   "mimetype": "text/x-python",
   "name": "python",
   "nbconvert_exporter": "python",
   "pygments_lexer": "ipython3",
   "version": "3.8.8"
  }
 },
 "nbformat": 4,
 "nbformat_minor": 5
}
