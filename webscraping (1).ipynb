{
 "cells": [
  {
   "cell_type": "code",
   "execution_count": null,
   "metadata": {},
   "outputs": [],
   "source": [
    "from selenium import webdriver\n",
    "import pandas as pd \n",
    "from bs4 import BeautifulSoup\n",
    "\n",
    "options = webdriver.ChromeOptions()\n",
    "driver = webdriver.Chrome(\"./chromedriver\")\n",
    "\n",
    "\n",
    "df = pd.DataFrame(columns=[\"role\",\"Company\",\"Salary\",\"Location\",\"Experience\",\"Posted\"])\n",
    "\n",
    "for i in range(0,500,10):\n",
    "    driver.get('https://in.indeed.com/jobs?q=web+scraper&l=&start='+str(i))\n",
    "    jobs = []\n",
    "    driver.implicitly_wait(4)\n",
    "    \n",
    "    \n",
    "    for job in driver.find_elements_by_class_name('result'):\n",
    "        \n",
    "        soup = BeautifulSoup(job.get_attribute('innerHTML'),'html.parser')\n",
    "        \n",
    "        try:\n",
    "            role = soup.find(\"a\",class_=\"role\").text.replace(\"\\n\",\"\").strip()\n",
    "\n",
    "        except:\n",
    "            role = 'None'\n",
    "\n",
    "        try:\n",
    "            company = soup.find(class_=\"Company\").text\n",
    "        except:\n",
    "            company = 'None'\n",
    "\n",
    "        try:\n",
    "            Salary = soup.find(class_=\"Salary\").text.replace(\"\\n\",\"\").strip()\n",
    "        except:\n",
    "            Salary = 'None'\n",
    "\n",
    "        try:\n",
    "            Location = soup.find(class_=\"Location\").text.replace(\"\\n\",\"\").strip()\n",
    "        except:\n",
    "            Location = 'None'\n",
    "            \n",
    "        try:\n",
    "            Experience=soup.find(class_=\"Experience\").text.replace(\"\\n\",\"\").strip()\n",
    "        except:\n",
    "            Experience='None'\n",
    "\n",
    "        try:\n",
    "            Posted = soup.find(class_=\"Posted\").text\n",
    "            Posted = \"Posted\"\n",
    "        except:\n",
    "            Date = \"None\"\n",
    "            \n",
    "\n",
    "        df = df.append({'role':role,'Location':Location,\"Company\":Company,\"Salary\":Salary,\"Experience\":Experience,\n",
    "                        \"Posted\":Posted},ignore_index=True)\n",
    "\n",
    "        print(\"Got these many results:\",df.shape)\n",
    "\n",
    "\n",
    "df.to_csv(\"ai.csv\",index=False)"
   ]
  },
  {
   "cell_type": "code",
   "execution_count": 5,
   "metadata": {},
   "outputs": [
    {
     "ename": "SyntaxError",
     "evalue": "invalid syntax (<ipython-input-5-c5f631b66201>, line 5)",
     "output_type": "error",
     "traceback": [
      "\u001b[1;36m  File \u001b[1;32m\"<ipython-input-5-c5f631b66201>\"\u001b[1;36m, line \u001b[1;32m5\u001b[0m\n\u001b[1;33m    with open('script.csv,'py') as out_file:\u001b[0m\n\u001b[1;37m                           ^\u001b[0m\n\u001b[1;31mSyntaxError\u001b[0m\u001b[1;31m:\u001b[0m invalid syntax\n"
     ]
    }
   ],
   "source": [
    "import csv\n",
    "with open('Desktop/webscrap/scraping.py','r') as in_file:\n",
    "    stripped=(line.striper for line in in_file)\n",
    "    lines=(line.split(\",\") for line in stripped if line)\n",
    "with open('script.csv,'') as out_file:\n",
    "          write=csv.writer(out_file)\n",
    "          write.writerows(lines)"
   ]
  },
  {
   "cell_type": "code",
   "execution_count": 7,
   "metadata": {},
   "outputs": [
    {
     "ename": "AttributeError",
     "evalue": "module 'pandas' has no attribute 'read_py'",
     "output_type": "error",
     "traceback": [
      "\u001b[1;31m---------------------------------------------------------------------------\u001b[0m",
      "\u001b[1;31mAttributeError\u001b[0m                            Traceback (most recent call last)",
      "\u001b[1;32m<ipython-input-7-32d341908de7>\u001b[0m in \u001b[0;36m<module>\u001b[1;34m\u001b[0m\n\u001b[0;32m      1\u001b[0m \u001b[1;32mimport\u001b[0m \u001b[0mpandas\u001b[0m \u001b[1;32mas\u001b[0m \u001b[0mpd\u001b[0m\u001b[1;33m\u001b[0m\u001b[1;33m\u001b[0m\u001b[0m\n\u001b[1;32m----> 2\u001b[1;33m \u001b[0md\u001b[0m\u001b[1;33m=\u001b[0m\u001b[0mpd\u001b[0m\u001b[1;33m.\u001b[0m\u001b[0mread_py\u001b[0m\u001b[1;33m(\u001b[0m\u001b[1;34m\"Desktop/webscrap/scraping.py\"\u001b[0m\u001b[1;33m)\u001b[0m\u001b[1;33m\u001b[0m\u001b[1;33m\u001b[0m\u001b[0m\n\u001b[0m",
      "\u001b[1;32m~\\anaconda3\\lib\\site-packages\\pandas\\__init__.py\u001b[0m in \u001b[0;36m__getattr__\u001b[1;34m(name)\u001b[0m\n\u001b[0;32m    256\u001b[0m             \u001b[1;32mreturn\u001b[0m \u001b[0m_SparseArray\u001b[0m\u001b[1;33m\u001b[0m\u001b[1;33m\u001b[0m\u001b[0m\n\u001b[0;32m    257\u001b[0m \u001b[1;33m\u001b[0m\u001b[0m\n\u001b[1;32m--> 258\u001b[1;33m         \u001b[1;32mraise\u001b[0m \u001b[0mAttributeError\u001b[0m\u001b[1;33m(\u001b[0m\u001b[1;34mf\"module 'pandas' has no attribute '{name}'\"\u001b[0m\u001b[1;33m)\u001b[0m\u001b[1;33m\u001b[0m\u001b[1;33m\u001b[0m\u001b[0m\n\u001b[0m\u001b[0;32m    259\u001b[0m \u001b[1;33m\u001b[0m\u001b[0m\n\u001b[0;32m    260\u001b[0m \u001b[1;33m\u001b[0m\u001b[0m\n",
      "\u001b[1;31mAttributeError\u001b[0m: module 'pandas' has no attribute 'read_py'"
     ]
    }
   ],
   "source": [
    "import pandas as pd\n",
    "d=pd.read_py(\"Desktop/webscrap/scraping.py\")"
   ]
  },
  {
   "cell_type": "code",
   "execution_count": null,
   "metadata": {},
   "outputs": [],
   "source": []
  }
 ],
 "metadata": {
  "kernelspec": {
   "display_name": "Python 3",
   "language": "python",
   "name": "python3"
  },
  "language_info": {
   "codemirror_mode": {
    "name": "ipython",
    "version": 3
   },
   "file_extension": ".py",
   "mimetype": "text/x-python",
   "name": "python",
   "nbconvert_exporter": "python",
   "pygments_lexer": "ipython3",
   "version": "3.8.5"
  }
 },
 "nbformat": 4,
 "nbformat_minor": 4
}
