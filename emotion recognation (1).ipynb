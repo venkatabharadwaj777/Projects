{
 "cells": [
  {
   "cell_type": "code",
   "execution_count": 1,
   "metadata": {},
   "outputs": [
    {
     "name": "stdout",
     "output_type": "stream",
     "text": [
      "Requirement already satisfied: deepface in c:\\users\\venkata bharadwaj\\anaconda3\\lib\\site-packages (0.0.49)\n",
      "Requirement already satisfied: tqdm>=4.30.0 in c:\\users\\venkata bharadwaj\\anaconda3\\lib\\site-packages (from deepface) (4.50.2)\n",
      "Requirement already satisfied: keras>=2.2.0 in c:\\users\\venkata bharadwaj\\anaconda3\\lib\\site-packages (from deepface) (2.4.3)\n",
      "Requirement already satisfied: gdown>=3.10.1 in c:\\users\\venkata bharadwaj\\anaconda3\\lib\\site-packages (from deepface) (3.12.2)\n",
      "Requirement already satisfied: pandas>=0.23.4 in c:\\users\\venkata bharadwaj\\anaconda3\\lib\\site-packages (from deepface) (1.1.3)\n",
      "Requirement already satisfied: opencv-python>=3.4.4 in c:\\users\\venkata bharadwaj\\anaconda3\\lib\\site-packages (from deepface) (4.5.1.48)\n",
      "Requirement already satisfied: Flask>=1.1.2 in c:\\users\\venkata bharadwaj\\anaconda3\\lib\\site-packages (from deepface) (1.1.2)\n",
      "Requirement already satisfied: Pillow>=5.2.0 in c:\\users\\venkata bharadwaj\\anaconda3\\lib\\site-packages (from deepface) (8.0.1)\n",
      "Requirement already satisfied: numpy>=1.14.0 in c:\\users\\venkata bharadwaj\\anaconda3\\lib\\site-packages (from deepface) (1.19.2)\n",
      "Requirement already satisfied: tensorflow>=1.9.0 in c:\\users\\venkata bharadwaj\\anaconda3\\lib\\site-packages (from deepface) (2.4.1)\n",
      "Requirement already satisfied: mtcnn>=0.1.0 in c:\\users\\venkata bharadwaj\\anaconda3\\lib\\site-packages (from deepface) (0.1.0)\n",
      "Requirement already satisfied: h5py in c:\\users\\venkata bharadwaj\\anaconda3\\lib\\site-packages (from keras>=2.2.0->deepface) (2.10.0)\n",
      "Requirement already satisfied: pyyaml in c:\\users\\venkata bharadwaj\\anaconda3\\lib\\site-packages (from keras>=2.2.0->deepface) (5.3.1)\n",
      "Requirement already satisfied: scipy>=0.14 in c:\\users\\venkata bharadwaj\\anaconda3\\lib\\site-packages (from keras>=2.2.0->deepface) (1.5.2)\n",
      "Requirement already satisfied: six in c:\\users\\venkata bharadwaj\\anaconda3\\lib\\site-packages (from gdown>=3.10.1->deepface) (1.15.0)\n",
      "Requirement already satisfied: requests[socks] in c:\\users\\venkata bharadwaj\\anaconda3\\lib\\site-packages (from gdown>=3.10.1->deepface) (2.24.0)\n",
      "Requirement already satisfied: filelock in c:\\users\\venkata bharadwaj\\anaconda3\\lib\\site-packages (from gdown>=3.10.1->deepface) (3.0.12)\n",
      "Requirement already satisfied: python-dateutil>=2.7.3 in c:\\users\\venkata bharadwaj\\anaconda3\\lib\\site-packages (from pandas>=0.23.4->deepface) (2.8.1)\n",
      "Requirement already satisfied: pytz>=2017.2 in c:\\users\\venkata bharadwaj\\anaconda3\\lib\\site-packages (from pandas>=0.23.4->deepface) (2020.1)\n",
      "Requirement already satisfied: click>=5.1 in c:\\users\\venkata bharadwaj\\anaconda3\\lib\\site-packages (from Flask>=1.1.2->deepface) (7.1.2)\n",
      "Requirement already satisfied: Werkzeug>=0.15 in c:\\users\\venkata bharadwaj\\anaconda3\\lib\\site-packages (from Flask>=1.1.2->deepface) (1.0.1)\n",
      "Requirement already satisfied: itsdangerous>=0.24 in c:\\users\\venkata bharadwaj\\anaconda3\\lib\\site-packages (from Flask>=1.1.2->deepface) (1.1.0)\n",
      "Requirement already satisfied: Jinja2>=2.10.1 in c:\\users\\venkata bharadwaj\\anaconda3\\lib\\site-packages (from Flask>=1.1.2->deepface) (2.11.2)\n",
      "Requirement already satisfied: astunparse~=1.6.3 in c:\\users\\venkata bharadwaj\\anaconda3\\lib\\site-packages (from tensorflow>=1.9.0->deepface) (1.6.3)\n",
      "Requirement already satisfied: opt-einsum~=3.3.0 in c:\\users\\venkata bharadwaj\\anaconda3\\lib\\site-packages (from tensorflow>=1.9.0->deepface) (3.3.0)\n",
      "Requirement already satisfied: gast==0.3.3 in c:\\users\\venkata bharadwaj\\anaconda3\\lib\\site-packages (from tensorflow>=1.9.0->deepface) (0.3.3)\n",
      "Requirement already satisfied: tensorboard~=2.4 in c:\\users\\venkata bharadwaj\\anaconda3\\lib\\site-packages (from tensorflow>=1.9.0->deepface) (2.4.1)\n",
      "Requirement already satisfied: wheel~=0.35 in c:\\users\\venkata bharadwaj\\anaconda3\\lib\\site-packages (from tensorflow>=1.9.0->deepface) (0.35.1)\n",
      "Requirement already satisfied: tensorflow-estimator<2.5.0,>=2.4.0 in c:\\users\\venkata bharadwaj\\anaconda3\\lib\\site-packages (from tensorflow>=1.9.0->deepface) (2.4.0)\n",
      "Requirement already satisfied: wrapt~=1.12.1 in c:\\users\\venkata bharadwaj\\anaconda3\\lib\\site-packages (from tensorflow>=1.9.0->deepface) (1.12.1)\n",
      "Requirement already satisfied: typing-extensions~=3.7.4 in c:\\users\\venkata bharadwaj\\anaconda3\\lib\\site-packages (from tensorflow>=1.9.0->deepface) (3.7.4.3)\n",
      "Requirement already satisfied: google-pasta~=0.2 in c:\\users\\venkata bharadwaj\\anaconda3\\lib\\site-packages (from tensorflow>=1.9.0->deepface) (0.2.0)\n",
      "Requirement already satisfied: protobuf>=3.9.2 in c:\\users\\venkata bharadwaj\\anaconda3\\lib\\site-packages (from tensorflow>=1.9.0->deepface) (3.14.0)\n",
      "Requirement already satisfied: grpcio~=1.32.0 in c:\\users\\venkata bharadwaj\\anaconda3\\lib\\site-packages (from tensorflow>=1.9.0->deepface) (1.32.0)\n",
      "Requirement already satisfied: flatbuffers~=1.12.0 in c:\\users\\venkata bharadwaj\\anaconda3\\lib\\site-packages (from tensorflow>=1.9.0->deepface) (1.12)\n",
      "Requirement already satisfied: termcolor~=1.1.0 in c:\\users\\venkata bharadwaj\\anaconda3\\lib\\site-packages (from tensorflow>=1.9.0->deepface) (1.1.0)\n",
      "Requirement already satisfied: keras-preprocessing~=1.1.2 in c:\\users\\venkata bharadwaj\\anaconda3\\lib\\site-packages (from tensorflow>=1.9.0->deepface) (1.1.2)\n",
      "Requirement already satisfied: absl-py~=0.10 in c:\\users\\venkata bharadwaj\\anaconda3\\lib\\site-packages (from tensorflow>=1.9.0->deepface) (0.12.0)\n",
      "Requirement already satisfied: certifi>=2017.4.17 in c:\\users\\venkata bharadwaj\\anaconda3\\lib\\site-packages (from requests[socks]->gdown>=3.10.1->deepface) (2020.6.20)\n",
      "Requirement already satisfied: idna<3,>=2.5 in c:\\users\\venkata bharadwaj\\anaconda3\\lib\\site-packages (from requests[socks]->gdown>=3.10.1->deepface) (2.10)\n",
      "Requirement already satisfied: chardet<4,>=3.0.2 in c:\\users\\venkata bharadwaj\\anaconda3\\lib\\site-packages (from requests[socks]->gdown>=3.10.1->deepface) (3.0.4)\n",
      "Requirement already satisfied: urllib3!=1.25.0,!=1.25.1,<1.26,>=1.21.1 in c:\\users\\venkata bharadwaj\\anaconda3\\lib\\site-packages (from requests[socks]->gdown>=3.10.1->deepface) (1.25.11)\n",
      "Requirement already satisfied: PySocks!=1.5.7,>=1.5.6; extra == \"socks\" in c:\\users\\venkata bharadwaj\\anaconda3\\lib\\site-packages (from requests[socks]->gdown>=3.10.1->deepface) (1.7.1)\n",
      "Requirement already satisfied: MarkupSafe>=0.23 in c:\\users\\venkata bharadwaj\\anaconda3\\lib\\site-packages (from Jinja2>=2.10.1->Flask>=1.1.2->deepface) (1.1.1)\n",
      "Requirement already satisfied: markdown>=2.6.8 in c:\\users\\venkata bharadwaj\\anaconda3\\lib\\site-packages (from tensorboard~=2.4->tensorflow>=1.9.0->deepface) (3.3.4)\n",
      "Requirement already satisfied: tensorboard-plugin-wit>=1.6.0 in c:\\users\\venkata bharadwaj\\anaconda3\\lib\\site-packages (from tensorboard~=2.4->tensorflow>=1.9.0->deepface) (1.8.0)\n",
      "Requirement already satisfied: setuptools>=41.0.0 in c:\\users\\venkata bharadwaj\\anaconda3\\lib\\site-packages (from tensorboard~=2.4->tensorflow>=1.9.0->deepface) (50.3.1.post20201107)\n",
      "Requirement already satisfied: google-auth-oauthlib<0.5,>=0.4.1 in c:\\users\\venkata bharadwaj\\anaconda3\\lib\\site-packages (from tensorboard~=2.4->tensorflow>=1.9.0->deepface) (0.4.3)\n",
      "Requirement already satisfied: google-auth<2,>=1.6.3 in c:\\users\\venkata bharadwaj\\anaconda3\\lib\\site-packages (from tensorboard~=2.4->tensorflow>=1.9.0->deepface) (1.28.0)\n",
      "Requirement already satisfied: requests-oauthlib>=0.7.0 in c:\\users\\venkata bharadwaj\\anaconda3\\lib\\site-packages (from google-auth-oauthlib<0.5,>=0.4.1->tensorboard~=2.4->tensorflow>=1.9.0->deepface) (1.3.0)\n",
      "Requirement already satisfied: cachetools<5.0,>=2.0.0 in c:\\users\\venkata bharadwaj\\anaconda3\\lib\\site-packages (from google-auth<2,>=1.6.3->tensorboard~=2.4->tensorflow>=1.9.0->deepface) (4.2.1)\n",
      "Requirement already satisfied: rsa<5,>=3.1.4; python_version >= \"3.6\" in c:\\users\\venkata bharadwaj\\anaconda3\\lib\\site-packages (from google-auth<2,>=1.6.3->tensorboard~=2.4->tensorflow>=1.9.0->deepface) (4.7.2)\n",
      "Requirement already satisfied: pyasn1-modules>=0.2.1 in c:\\users\\venkata bharadwaj\\anaconda3\\lib\\site-packages (from google-auth<2,>=1.6.3->tensorboard~=2.4->tensorflow>=1.9.0->deepface) (0.2.8)\n",
      "Requirement already satisfied: oauthlib>=3.0.0 in c:\\users\\venkata bharadwaj\\anaconda3\\lib\\site-packages (from requests-oauthlib>=0.7.0->google-auth-oauthlib<0.5,>=0.4.1->tensorboard~=2.4->tensorflow>=1.9.0->deepface) (3.1.0)\n",
      "Requirement already satisfied: pyasn1>=0.1.3 in c:\\users\\venkata bharadwaj\\anaconda3\\lib\\site-packages (from rsa<5,>=3.1.4; python_version >= \"3.6\"->google-auth<2,>=1.6.3->tensorboard~=2.4->tensorflow>=1.9.0->deepface) (0.4.8)\n"
     ]
    }
   ],
   "source": [
    "!pip install deepface"
   ]
  },
  {
   "cell_type": "code",
   "execution_count": 2,
   "metadata": {},
   "outputs": [
    {
     "name": "stdout",
     "output_type": "stream",
     "text": [
      "Requirement already satisfied: opencv-python in c:\\users\\venkata bharadwaj\\anaconda3\\lib\\site-packages (4.5.1.48)\n",
      "Requirement already satisfied: numpy>=1.17.3 in c:\\users\\venkata bharadwaj\\anaconda3\\lib\\site-packages (from opencv-python) (1.19.2)\n"
     ]
    }
   ],
   "source": [
    "!pip install opencv-python"
   ]
  },
  {
   "cell_type": "code",
   "execution_count": 3,
   "metadata": {},
   "outputs": [
    {
     "name": "stdout",
     "output_type": "stream",
     "text": [
      "Requirement already satisfied: opencv-contrib-python in c:\\users\\venkata bharadwaj\\appdata\\roaming\\python\\python38\\site-packages (4.5.1.48)\n",
      "Requirement already satisfied: numpy>=1.17.3 in c:\\users\\venkata bharadwaj\\anaconda3\\lib\\site-packages (from opencv-contrib-python) (1.19.2)\n"
     ]
    }
   ],
   "source": [
    "!pip install opencv-contrib-python"
   ]
  },
  {
   "cell_type": "code",
   "execution_count": 4,
   "metadata": {},
   "outputs": [],
   "source": [
    "from deepface import DeepFace\n",
    "import cv2\n",
    "import matplotlib.pyplot as plt"
   ]
  },
  {
   "cell_type": "code",
   "execution_count": 5,
   "metadata": {},
   "outputs": [],
   "source": [
    "faceCascade = cv2.CascadeClassifier(cv2.data.haarcascades + 'haarcascade_frontalface_default.xml')"
   ]
  },
  {
   "cell_type": "code",
   "execution_count": 7,
   "metadata": {},
   "outputs": [
    {
     "name": "stdout",
     "output_type": "stream",
     "text": [
      "{'emotion': {'angry': 0.07310397340916097, 'disgust': 5.048295115273049e-08, 'fear': 7.878666110627819e-05, 'happy': 93.44868659973145, 'sad': 0.0844956492073834, 'surprise': 0.024082293384708464, 'neutral': 6.369555741548538}, 'dominant_emotion': 'happy'}\n"
     ]
    }
   ],
   "source": [
    "cap = cv2.VideoCapture(0)\n",
    "if not cap.isOpened():\n",
    "    cap = cv2.VideoCapture(0)\n",
    "if not cap.isOpened():\n",
    "    raise IOError(\"Cannot open Webcam\")\n",
    "\n",
    "cap = cv2.VideoCapture(0)\n",
    "for i in range(5):\n",
    "    return_value, image = cap.read()\n",
    "    cv2.imwrite('opencv'+str(i)+'.png', image)\n",
    "del(cap)\n",
    "\n",
    "gray = cv2.cvtColor(image, cv2.COLOR_BGR2GRAY)\n",
    "faces =  faceCascade.detectMultiScale(gray,1.1,4)\n",
    "result = DeepFace.analyze(image,actions=['emotion'])\n",
    "print(result)\n",
    "      \n",
    "font = cv2.FONT_HERSHEY_SIMPLEX\n",
    "cv2.putText(image,result['dominant_emotion'],(0,50),font,1,(255,225,0),2,cv2.LINE_4)\n",
    "    \n",
    "if cv2.waitKey() & 0xFF==ord('b'):\n",
    "    cap.release()\n",
    "    cv2.destroyAllWindows()"
   ]
  }
 ],
 "metadata": {
  "kernelspec": {
   "display_name": "Python 3",
   "language": "python",
   "name": "python3"
  },
  "language_info": {
   "codemirror_mode": {
    "name": "ipython",
    "version": 3
   },
   "file_extension": ".py",
   "mimetype": "text/x-python",
   "name": "python",
   "nbconvert_exporter": "python",
   "pygments_lexer": "ipython3",
   "version": "3.8.5"
  }
 },
 "nbformat": 4,
 "nbformat_minor": 4
}
