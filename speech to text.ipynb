{
 "cells": [
  {
   "cell_type": "code",
   "execution_count": 11,
   "id": "7d9aca86-d052-446b-9d27-ed29ee331ae1",
   "metadata": {},
   "outputs": [
    {
     "name": "stdout",
     "output_type": "stream",
     "text": [
      "Requirement already satisfied: speech-to-text in c:\\users\\gopinath\\anaconda3\\lib\\site-packages (0.1.0)\n",
      "Requirement already satisfied: progressbar in c:\\users\\gopinath\\anaconda3\\lib\\site-packages (from speech-to-text) (2.5)\n",
      "Requirement already satisfied: PyYAML==3.12 in c:\\users\\gopinath\\anaconda3\\lib\\site-packages (from speech-to-text) (3.12)\n",
      "Requirement already satisfied: click==6.7 in c:\\users\\gopinath\\anaconda3\\lib\\site-packages (from speech-to-text) (6.7)\n",
      "Requirement already satisfied: watson-developer-cloud==0.25.1 in c:\\users\\gopinath\\anaconda3\\lib\\site-packages (from speech-to-text) (0.25.1)\n",
      "Requirement already satisfied: pysolr<4.0,>=3.3 in c:\\users\\gopinath\\anaconda3\\lib\\site-packages (from watson-developer-cloud==0.25.1->speech-to-text) (3.9.0)\n",
      "Requirement already satisfied: requests<3.0,>=2.0 in c:\\users\\gopinath\\anaconda3\\lib\\site-packages (from watson-developer-cloud==0.25.1->speech-to-text) (2.25.1)\n",
      "Requirement already satisfied: urllib3<1.27,>=1.21.1 in c:\\users\\gopinath\\anaconda3\\lib\\site-packages (from requests<3.0,>=2.0->watson-developer-cloud==0.25.1->speech-to-text) (1.26.4)\n",
      "Requirement already satisfied: certifi>=2017.4.17 in c:\\users\\gopinath\\anaconda3\\lib\\site-packages (from requests<3.0,>=2.0->watson-developer-cloud==0.25.1->speech-to-text) (2021.5.30)\n",
      "Requirement already satisfied: idna<3,>=2.5 in c:\\users\\gopinath\\anaconda3\\lib\\site-packages (from requests<3.0,>=2.0->watson-developer-cloud==0.25.1->speech-to-text) (2.10)\n",
      "Requirement already satisfied: chardet<5,>=3.0.2 in c:\\users\\gopinath\\anaconda3\\lib\\site-packages (from requests<3.0,>=2.0->watson-developer-cloud==0.25.1->speech-to-text) (4.0.0)\n"
     ]
    }
   ],
   "source": [
    "!pip install speech-to-text"
   ]
  },
  {
   "cell_type": "code",
   "execution_count": 15,
   "id": "f2cd4fef-214d-4536-869b-8b9f2d985d91",
   "metadata": {},
   "outputs": [
    {
     "name": "stdout",
     "output_type": "stream",
     "text": [
      "Collecting pipwin\n",
      "  Downloading pipwin-0.5.1.tar.gz (8.8 kB)\n",
      "Collecting docopt\n",
      "  Downloading docopt-0.6.2.tar.gz (25 kB)\n",
      "Requirement already satisfied: requests in c:\\users\\gopinath\\anaconda3\\lib\\site-packages (from pipwin) (2.25.1)\n",
      "Collecting pyprind\n",
      "  Downloading PyPrind-2.11.3-py2.py3-none-any.whl (8.4 kB)\n",
      "Requirement already satisfied: six in c:\\users\\gopinath\\anaconda3\\lib\\site-packages (from pipwin) (1.15.0)\n",
      "Requirement already satisfied: beautifulsoup4>=4.9.0 in c:\\users\\gopinath\\anaconda3\\lib\\site-packages (from pipwin) (4.9.3)\n",
      "Collecting js2py\n",
      "  Downloading Js2Py-0.71-py3-none-any.whl (1.0 MB)\n",
      "Requirement already satisfied: packaging in c:\\users\\gopinath\\anaconda3\\lib\\site-packages (from pipwin) (20.9)\n",
      "Collecting pySmartDL>=1.3.1\n",
      "  Downloading pySmartDL-1.3.4-py3-none-any.whl (20 kB)\n",
      "Requirement already satisfied: soupsieve>1.2 in c:\\users\\gopinath\\anaconda3\\lib\\site-packages (from beautifulsoup4>=4.9.0->pipwin) (2.2.1)\n",
      "Collecting tzlocal>=1.2\n",
      "  Downloading tzlocal-3.0-py3-none-any.whl (16 kB)\n",
      "Collecting pyjsparser>=2.5.1\n",
      "  Downloading pyjsparser-2.7.1.tar.gz (24 kB)\n",
      "Collecting tzdata\n",
      "  Downloading tzdata-2021.1-py2.py3-none-any.whl (338 kB)\n",
      "Collecting backports.zoneinfo\n",
      "  Downloading backports.zoneinfo-0.2.1-cp38-cp38-win_amd64.whl (38 kB)\n",
      "Requirement already satisfied: pyparsing>=2.0.2 in c:\\users\\gopinath\\anaconda3\\lib\\site-packages (from packaging->pipwin) (2.4.7)\n",
      "Requirement already satisfied: urllib3<1.27,>=1.21.1 in c:\\users\\gopinath\\anaconda3\\lib\\site-packages (from requests->pipwin) (1.26.4)\n",
      "Requirement already satisfied: chardet<5,>=3.0.2 in c:\\users\\gopinath\\anaconda3\\lib\\site-packages (from requests->pipwin) (4.0.0)\n",
      "Requirement already satisfied: certifi>=2017.4.17 in c:\\users\\gopinath\\anaconda3\\lib\\site-packages (from requests->pipwin) (2021.5.30)\n",
      "Requirement already satisfied: idna<3,>=2.5 in c:\\users\\gopinath\\anaconda3\\lib\\site-packages (from requests->pipwin) (2.10)\n",
      "Building wheels for collected packages: pipwin, docopt, pyjsparser\n",
      "  Building wheel for pipwin (setup.py): started\n",
      "  Building wheel for pipwin (setup.py): finished with status 'done'\n",
      "  Created wheel for pipwin: filename=pipwin-0.5.1-py2.py3-none-any.whl size=8778 sha256=0b0a1fc20d4fcfa28fc4fe37acb0876fc2bb720ffae692fc6b719c7602ce2119\n",
      "  Stored in directory: c:\\users\\gopinath\\appdata\\local\\pip\\cache\\wheels\\94\\1b\\63\\6465d24b53c03f566cfb25a7a9b806b4b0e29c95d82ac189d8\n",
      "  Building wheel for docopt (setup.py): started\n",
      "  Building wheel for docopt (setup.py): finished with status 'done'\n",
      "  Created wheel for docopt: filename=docopt-0.6.2-py2.py3-none-any.whl size=13705 sha256=e3ffdff1d96093a878c47cfb427b256ff6211ec1f4374653eaebd3cff379e374\n",
      "  Stored in directory: c:\\users\\gopinath\\appdata\\local\\pip\\cache\\wheels\\56\\ea\\58\\ead137b087d9e326852a851351d1debf4ada529b6ac0ec4e8c\n",
      "  Building wheel for pyjsparser (setup.py): started\n",
      "  Building wheel for pyjsparser (setup.py): finished with status 'done'\n",
      "  Created wheel for pyjsparser: filename=pyjsparser-2.7.1-py3-none-any.whl size=25998 sha256=eb686cfc9a0c22019fe6379b811e6bf6162700274d42a351f875945e338482a7\n",
      "  Stored in directory: c:\\users\\gopinath\\appdata\\local\\pip\\cache\\wheels\\d5\\88\\34\\ccb5bb40eb3178a134eb293e6c363928c5bcfba0b91031db76\n",
      "Successfully built pipwin docopt pyjsparser\n",
      "Installing collected packages: tzdata, backports.zoneinfo, tzlocal, pyjsparser, pySmartDL, pyprind, js2py, docopt, pipwin\n",
      "Successfully installed backports.zoneinfo-0.2.1 docopt-0.6.2 js2py-0.71 pipwin-0.5.1 pySmartDL-1.3.4 pyjsparser-2.7.1 pyprind-2.11.3 tzdata-2021.1 tzlocal-3.0\n"
     ]
    }
   ],
   "source": [
    "!pip install pipwin"
   ]
  },
  {
   "cell_type": "code",
   "execution_count": 16,
   "id": "5293dfd8-a3b1-4038-bb26-2070ed50d69c",
   "metadata": {},
   "outputs": [
    {
     "name": "stdout",
     "output_type": "stream",
     "text": [
      "Building cache. Hang on . . .\n",
      "Done\n",
      "Package `pyaudio` found in cache\n",
      "Downloading package . . .\n",
      "https://download.lfd.uci.edu/pythonlibs/y2rycu7g/PyAudio-0.2.11-cp38-cp38-win_amd64.whl\n",
      "PyAudio-0.2.11-cp38-cp38-win_amd64.whl\n",
      "[*] 0 bytes / 110 kB @ 0 bytes/s [------------------] [0.0%, 0s left]   [*] 0 bytes / 110 kB @ 0 bytes/s [------------------] [0.0%, 0s left]   [*] 0 bytes / 110 kB @ 0 bytes/s [------------------] [0.0%, 0s left]   [*] 0 bytes / 110 kB @ 0 bytes/s [------------------] [0.0%, 0s left]   [*] 0 bytes / 110 kB @ 0 bytes/s [------------------] [0.0%, 0s left]   [*] 0 bytes / 110 kB @ 0 bytes/s [------------------] [0.0%, 0s left]   [*] 0 bytes / 110 kB @ 0 bytes/s [------------------] [0.0%, 0s left]   [*] 0 bytes / 110 kB @ 0 bytes/s [------------------] [0.0%, 0s left]   [*] 0 bytes / 110 kB @ 0 bytes/s [------------------] [0.0%, 0s left]   [*] 0 bytes / 110 kB @ 0 bytes/s [------------------] [0.0%, 0s left]   [*] 0 bytes / 110 kB @ 0 bytes/s [------------------] [0.0%, 0s left]   [*] 8 kB / 110 kB @ 7 kB/s [#-----------------] [7.3%, 0s left]   [*] 8 kB / 110 kB @ 6 kB/s [#-----------------] [7.3%, 0s left]   [*] 24 kB / 110 kB @ 17 kB/s [###---------------] [21.8%, 0s left]  [*] 24 kB / 110 kB @ 16 kB/s [###---------------] [21.8%, 0s left]  [*] 24 kB / 110 kB @ 15 kB/s [###---------------] [21.8%, 0s left]  [*] 56 kB / 110 kB @ 33 kB/s [#########---------] [51.0%, 0s left]  [*] 56 kB / 110 kB @ 31 kB/s [#########---------] [51.0%, 0s left]  Processing c:\\users\\gopinath\\pipwin\\pyaudio-0.2.11-cp38-cp38-win_amd64.whl\n",
      "Installing collected packages: PyAudio\n",
      "Successfully installed PyAudio-0.2.11\n",
      "[*] 110 kB / 110 kB @ 31 kB/s [##################] [100%, 0s left]    \n"
     ]
    }
   ],
   "source": [
    "!pipwin install pyaudio"
   ]
  },
  {
   "cell_type": "code",
   "execution_count": 19,
   "id": "5669cfbe-2af6-4397-a8fe-43f85d1667b0",
   "metadata": {},
   "outputs": [
    {
     "name": "stdout",
     "output_type": "stream",
     "text": [
      "Collecting SpeechRecognition\n",
      "  Downloading SpeechRecognition-3.8.1-py2.py3-none-any.whl (32.8 MB)\n",
      "Installing collected packages: SpeechRecognition\n",
      "Successfully installed SpeechRecognition-3.8.1\n"
     ]
    }
   ],
   "source": [
    "!pip install SpeechRecognition"
   ]
  },
  {
   "cell_type": "code",
   "execution_count": 20,
   "id": "7d19083f-45b2-4409-8915-d6b8f2fb79f8",
   "metadata": {},
   "outputs": [],
   "source": [
    "import speech_recognition as sr"
   ]
  },
  {
   "cell_type": "code",
   "execution_count": 42,
   "id": "118d9c24-e6da-42ae-8f47-7847618f6d1e",
   "metadata": {},
   "outputs": [
    {
     "name": "stdout",
     "output_type": "stream",
     "text": [
      "Please say something....\n",
      "You have said : \n",
      "Gopinath\n"
     ]
    }
   ],
   "source": [
    "def main():\n",
    "    r = sr.Recognizer()\n",
    "    \n",
    "    with sr.Microphone () as source:\n",
    "        r.adjust_for_ambient_noise(source)\n",
    "        \n",
    "        print(\"Please say something....\")\n",
    "        \n",
    "        audio = r.listen(source)\n",
    "        \n",
    "        \n",
    "        try:\n",
    "            print(\"You have said : \\n\" + r.recognize_google(audio))\n",
    "            \n",
    "        except Exception as e:\n",
    "            print('Error : ' + str(e))\n",
    "            \n",
    "            \n",
    "\n",
    "if __name__ == \"__main__\":\n",
    "    main()"
   ]
  },
  {
   "cell_type": "code",
   "execution_count": null,
   "id": "4d20c6d0-714d-455b-801a-802412628dde",
   "metadata": {},
   "outputs": [],
   "source": []
  },
  {
   "cell_type": "code",
   "execution_count": null,
   "id": "1ddd7d39-f939-4f96-9e06-f352dbdb3123",
   "metadata": {},
   "outputs": [],
   "source": []
  }
 ],
 "metadata": {
  "kernelspec": {
   "display_name": "Python 3",
   "language": "python",
   "name": "python3"
  },
  "language_info": {
   "codemirror_mode": {
    "name": "ipython",
    "version": 3
   },
   "file_extension": ".py",
   "mimetype": "text/x-python",
   "name": "python",
   "nbconvert_exporter": "python",
   "pygments_lexer": "ipython3",
   "version": "3.8.8"
  }
 },
 "nbformat": 4,
 "nbformat_minor": 5
}
